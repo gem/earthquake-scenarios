{
 "cells": [
  {
   "attachments": {},
   "cell_type": "markdown",
   "id": "f898d303-3e04-4ec2-8a16-31147239536d",
   "metadata": {},
   "source": [
    "# Plot ground motion fields"
   ]
  },
  {
   "cell_type": "code",
   "execution_count": null,
   "id": "ec7c63b5-710f-418c-b266-d92c19b2e4ab",
   "metadata": {},
   "outputs": [],
   "source": [
    "import os\n",
    "import glob\n",
    "import pandas as pd\n",
    "import matplotlib.pyplot as plt\n",
    "\n",
    "from oq_parse_gmfs import plot_df, plot_stations\n"
   ]
  },
  {
   "attachments": {},
   "cell_type": "markdown",
   "id": "bdc0e1a2",
   "metadata": {},
   "source": [
    "# Select gmfs for available calculations"
   ]
  },
  {
   "cell_type": "code",
   "execution_count": null,
   "id": "349e8126",
   "metadata": {},
   "outputs": [],
   "source": [
    "# Event name\n",
    "event = '20150425_M7.8_Gorkha'\n",
    "\n",
    "# Specify calculation ids. None for all log files in event folder\n",
    "# For specific calculations, indicate them in a list e.g., \n",
    "# calcs = [1, 2, 3]\n",
    "calcs = None"
   ]
  },
  {
   "cell_type": "code",
   "execution_count": null,
   "id": "8675c6fc",
   "metadata": {},
   "outputs": [],
   "source": [
    "# Select log files for OQ calculations\n",
    "if not calcs:\n",
    "    gmf_files = sorted(glob.glob(os.path.join('..', '*', event, 'OpenQuake_gmfs',\n",
    "                               'Sensitivity', 'gmf_median_PGA_*.csv')))\n",
    "else:\n",
    "    gmf_files = []\n",
    "    for calc in calcs:\n",
    "        gmf_files.append(glob.glob(os.path.join('..', '*', event, 'OpenQuake_gmfs',\n",
    "                               'Sensitivity', f'gmf_median_PGA_{calc}.csv'))[0])\n",
    "assert len(gmf_files)!=0, 'No log files to parse'\n",
    "\n",
    "# Get folders\n",
    "sens_folder = os.path.dirname(gmf_files[0])\n",
    "folder = os.path.dirname(sens_folder)\n",
    "maps_folder = os.path.join(folder, '.maps')\n",
    "\n",
    "# Save images in temporary file .maps\n",
    "if not os.path.isdir(maps_folder):\n",
    "    os.mkdir(maps_folder)\n",
    "\n",
    "gmf_files"
   ]
  },
  {
   "cell_type": "code",
   "execution_count": null,
   "id": "9501a353",
   "metadata": {},
   "outputs": [],
   "source": [
    "print(f'Saving gmfs figures from {len(gmf_files)} calculations in folder:\\n   {maps_folder}')\n",
    "\n",
    "for gmf in gmf_files:\n",
    "    '''\n",
    "    The gmfs are stored as ['custom_site_id', 'lon', 'lat', 'gmpe1', 'gmpe2', ...]\n",
    "    '''\n",
    "    \n",
    "    # Get calculation description\n",
    "    with open(gmf, 'r') as f:\n",
    "        description = f.readline().strip('\\n')\n",
    "\n",
    "    # Get calculation params\n",
    "    stations, gmlt, rupture = description.split(',')[1:]\n",
    "    calc_id = int(gmf.split('_')[-1][:-4])\n",
    "    print(f'   calc_id: {calc_id}: {description}')\n",
    "\n",
    "    # Read gmfs\n",
    "    df = pd.read_csv(gmf, comment='#')\n",
    "\n",
    "    # Create a figure for each GMPE\n",
    "    cols = ['custom_site_id', 'lon', 'lat']\n",
    "    gmpes = df.drop(columns=cols).columns.values.tolist()\n",
    "    for gmpe in gmpes:\n",
    "        fig, ax = plot_df(df, column=gmpe, pad=0.5,\n",
    "                          alpha=0.6,\n",
    "                          marker='s', \n",
    "                          markersize=15,\n",
    "                          edgecolor=None, \n",
    "                          linewidth=0.5,\n",
    "                          label='Ground motion field',\n",
    "                          legend=True,\n",
    "                          legend_kwds={'label': \n",
    "                                       'Peak Ground Acceleration (PGA) [g]', \n",
    "                                       'shrink':0.75},\n",
    "                          )\n",
    "\n",
    "        # Add recording stations\n",
    "        fig, ax = plot_stations(fig, ax, folder, description)\n",
    "\n",
    "        # Title and file_name\n",
    "        calc_details = f'{rupture} - {stations} - GMM:{gmpe}'\n",
    "        map_title = f'''Median gmf: {event.replace('DRAFT_', '')}\\n{calc_details}'''\n",
    "        file_name = f'''gmf_{rupture[9:]}_{gmpe}_{stations[10:]}.png'''\n",
    "\n",
    "        ax.set_title(map_title, fontsize=12)\n",
    "        file_path = os.path.join(maps_folder, file_name)\n",
    "\n",
    "        # Adjust the extents of the plot (uncomments lines and adjust limits):\n",
    "        # ax.set_xlim(0, 100)\n",
    "        # ax.set_ylim(-50, 50)\n",
    "        # plt.axis(‘equal’)\n",
    "\n",
    "\n",
    "        # Save figure\n",
    "        fig.savefig(file_path, facecolor=\"w\", \n",
    "                    dpi=100, bbox_inches='tight')\n",
    "        plt.close()\n",
    "fig"
   ]
  },
  {
   "cell_type": "code",
   "execution_count": null,
   "id": "7b4fa12a",
   "metadata": {},
   "outputs": [],
   "source": [
    "\n",
    "\n",
    "fig"
   ]
  },
  {
   "cell_type": "code",
   "execution_count": null,
   "id": "0a9e4bb1",
   "metadata": {},
   "outputs": [],
   "source": []
  }
 ],
 "metadata": {
  "kernelspec": {
   "display_name": "Python 3.9.6 64-bit",
   "language": "python",
   "name": "python3"
  },
  "language_info": {
   "codemirror_mode": {
    "name": "ipython",
    "version": 3
   },
   "file_extension": ".py",
   "mimetype": "text/x-python",
   "name": "python",
   "nbconvert_exporter": "python",
   "pygments_lexer": "ipython3",
   "version": "3.9.13"
  },
  "vscode": {
   "interpreter": {
    "hash": "31f2aee4e71d21fbe5cf8b01ff0e069b9275f58929596ceb00d14d90e3e16cd6"
   }
  }
 },
 "nbformat": 4,
 "nbformat_minor": 5
}
