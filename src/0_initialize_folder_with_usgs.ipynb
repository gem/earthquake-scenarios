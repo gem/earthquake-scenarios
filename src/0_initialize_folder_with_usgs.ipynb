{
 "cells": [
  {
   "attachments": {},
   "cell_type": "markdown",
   "metadata": {},
   "source": [
    "# Initialize folder using USGS data\n",
    "\n",
    "Create one or multiple event folders and query data from USGS\n"
   ]
  },
  {
   "cell_type": "code",
   "execution_count": null,
   "metadata": {},
   "outputs": [],
   "source": [
    "import os\n",
    "import shutil\n",
    "import pandas as pd\n",
    "\n",
    "import usgs_get_data"
   ]
  },
  {
   "attachments": {},
   "cell_type": "markdown",
   "metadata": {},
   "source": [
    "## Event information\n",
    "\n",
    "Indicate a single event or a `initialize_events.csv` file (located in the `src` folder) with a list of events.\n",
    "\n",
    "**Columns:** \n",
    "- `EVENT_ID`: Name of the folder for the event.\n",
    "    \n",
    "- `COUNTRY`: Country associated with the epicenter of the event\n",
    "    \n",
    "- `NAME`: Name that the event is commonly known.\n",
    "    \n",
    "- `USGS_ID`: Unique identifier from the USGS ShakeMap service\n",
    "    \n",
    "- `WIKI`: Title of Wikipedia page for the event\n"
   ]
  },
  {
   "cell_type": "code",
   "execution_count": null,
   "metadata": {},
   "outputs": [],
   "source": [
    "# Specify a single event\n",
    "df = pd.DataFrame(\n",
    "    index=[\"20100333_M7.0_Haiti\"],\n",
    "    columns=['NAME', 'COUNTRY', 'USGS_ID', 'WIKI'],\n",
    "    data = [[\"Haiti\", \"Haiti\", \"usp000h60h\", \"2010 Haiti earthquake\"]],\n",
    "    )\n",
    "\n",
    "# File with multiple events\n",
    "# df = pd.read_csv('initialize_events.csv', index_col='EVENT_ID')\n",
    "\n",
    "df"
   ]
  },
  {
   "attachments": {},
   "cell_type": "markdown",
   "metadata": {},
   "source": [
    "## Initialize folder"
   ]
  },
  {
   "cell_type": "code",
   "execution_count": null,
   "metadata": {},
   "outputs": [],
   "source": [
    "# Create event folders\n",
    "\n",
    "for event in df.index:\n",
    "    country = df.loc[event, 'COUNTRY']\n",
    "    \n",
    "    usgs_id = df.loc[event, 'USGS_ID']\n",
    "    wiki = df.loc[event, 'WIKI']\n",
    "    print(f\"\\x1b[1;34m{event}\\x1b[0m\")\n",
    "\n",
    "    # Create folder for country if it does not exist yet\n",
    "    country_folder = os.path.join('..', country)\n",
    "    if not os.path.exists(country_folder):\n",
    "        os.mkdir(country_folder)\n",
    "\n",
    "    # Raise warning if the event already exist\n",
    "    event_path = os.path.join(country_folder, event)\n",
    "    if os.path.exists(event_path) == True:\n",
    "        print(f\"\\x1b[0;31m   WARNING: {event_path} already exists\\x1b[0m\")\n",
    "\n",
    "    # Create folder for event as DRAFT\n",
    "    template = \"Event_Template\"\n",
    "    event_path = os.path.join(country_folder, f\"DRAFT_{event}\")\n",
    "    assert os.path.exists(event_path) == False, f\"ERROR: {event_path} already exists\"\n",
    "    shutil.copytree(template, event_path)\n",
    "    \n",
    "    # Download USGS data\n",
    "    usgs_info = usgs_get_data.query_usgs_data(usgs_id, event_path)\n",
    "    \n",
    "    # Update READMEs\n",
    "    print(\"\\nAdjust README information:\")\n",
    "    usgs_get_data.ini_readmes(event, event_path, usgs_id, usgs_info, wiki)\n",
    "    \n",
    "    # Generate main README\n",
    "    usgs_get_data.home_readme(df.loc[event,:], event_path, usgs_info)\n",
    "\n",
    "print(\"DONE!\",\n",
    "      \"Check the folders created for each event\")"
   ]
  },
  {
   "cell_type": "code",
   "execution_count": null,
   "metadata": {},
   "outputs": [],
   "source": []
  }
 ],
 "metadata": {
  "kernelspec": {
   "display_name": "Python 3",
   "language": "python",
   "name": "python3"
  },
  "language_info": {
   "codemirror_mode": {
    "name": "ipython",
    "version": 3
   },
   "file_extension": ".py",
   "mimetype": "text/x-python",
   "name": "python",
   "nbconvert_exporter": "python",
   "pygments_lexer": "ipython3",
   "version": "3.9.13"
  },
  "vscode": {
   "interpreter": {
    "hash": "31f2aee4e71d21fbe5cf8b01ff0e069b9275f58929596ceb00d14d90e3e16cd6"
   }
  }
 },
 "nbformat": 4,
 "nbformat_minor": 4
}
