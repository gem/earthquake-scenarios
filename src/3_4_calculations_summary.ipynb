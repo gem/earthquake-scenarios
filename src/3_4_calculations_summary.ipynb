{
 "cells": [
  {
   "attachments": {},
   "cell_type": "markdown",
   "id": "9c8094c5-399d-4d72-ba38-cdb831f8fe9e",
   "metadata": {},
   "source": [
    "# OpenQuake calculations summary\n",
    "\n",
    "Wrtie the `oq_calcs_summary.csv` file in the `Summary` folder.\n",
    "It uses as a reference the log files and the gmfs in csv store in the folder."
   ]
  },
  {
   "attachments": {},
   "cell_type": "markdown",
   "id": "b70a3db0-9009-499d-9e4c-262c6c1d4a84",
   "metadata": {},
   "source": [
    "## Configuration"
   ]
  },
  {
   "cell_type": "code",
   "execution_count": null,
   "id": "00e4eccd-23e4-4e1c-bd40-ce661258009f",
   "metadata": {},
   "outputs": [],
   "source": [
    "import os\n",
    "import glob\n",
    "import pandas as pd\n",
    "\n",
    "from oq_parse_gmfs import read_log"
   ]
  },
  {
   "attachments": {},
   "cell_type": "markdown",
   "id": "4b4af789-624c-4157-a697-623e0f04c250",
   "metadata": {
    "tags": []
   },
   "source": [
    "## User input"
   ]
  },
  {
   "cell_type": "code",
   "execution_count": null,
   "id": "c8dca253-6941-4312-8700-32899003d814",
   "metadata": {},
   "outputs": [],
   "source": [
    "# Event name\n",
    "event = '19970926_M5.97_UmbriaMarche'\n",
    "\n",
    "# Select log files for OQ calculations (including condintioning gmfs)\n",
    "logs = sorted(glob.glob(os.path.join('..', '**', event, 'OpenQuake_gmfs',\n",
    "                               'Sensitivity', 'log_*.txt'), recursive=True))\n",
    "assert len(logs)!=0, 'No log files to parse'\n",
    "\n",
    "# Get folders\n",
    "folder = os.path.dirname(logs[0])\n",
    "print('Sensitivity folder', folder)\n",
    "\n",
    "logs"
   ]
  },
  {
   "attachments": {},
   "cell_type": "markdown",
   "id": "10ff9db4",
   "metadata": {},
   "source": [
    "## Get DataFrame with calculations summary"
   ]
  },
  {
   "cell_type": "code",
   "execution_count": null,
   "id": "313434ff",
   "metadata": {},
   "outputs": [],
   "source": [
    "oq_summary = []\n",
    "cols = ['calc_id', 'description', 'cal_time', \n",
    "        'recording_stations', 'gmlt', 'rupture', 'gmpe', 'imt',\n",
    "        'max_gmv', 'nominal_bias_mean', 'nominal_bias_stdev']\n",
    "for log in logs:\n",
    "    # Get information from log\n",
    "    df_log, calc_id = read_log(log)\n",
    "\n",
    "    try:\n",
    "        # Read gmfs from csv file\n",
    "        gmfs_path = log.replace('log_calc', 'gmf_median_PGA').replace('txt', 'csv')\n",
    "        gmfs = pd.read_csv(gmfs_path, comment='#')\n",
    "\n",
    "        # Extract maximum gmvs\n",
    "        max_gmv = gmfs.iloc[:, 3:].max(axis=0).to_frame().reset_index()\n",
    "        max_gmv.columns = ['gmpe', 'max_gmv']\n",
    "        max_gmv['calc_id'] = calc_id\n",
    "        max_gmv['imt'] = 'PGA'\n",
    "\n",
    "        # For special GMPEs, adjust names\n",
    "        max_gmv.gmpe = max_gmv.gmpe.str.split('.').str[0]\n",
    "\n",
    "        # Add max_gmv to summary data\n",
    "        if len(df_log) == 1 and any(df_log.gmpe == ''):\n",
    "            # Calculation woth NO gmf conditioning:\n",
    "            df = df_log.merge(max_gmv, on=['calc_id'], suffixes=('_x', ''))\n",
    "        else:\n",
    "            df = df_log.merge(max_gmv, on=['calc_id', 'gmpe', 'imt'])\n",
    "                \n",
    "    except FileNotFoundError as e:\n",
    "        df = df_log\n",
    "        print(f'Calculation {calc_id} has not the corresponding gmfs in csv format')\n",
    "        \n",
    "    oq_summary.append(df[cols])\n",
    "\n",
    "# At least one calculation included in summary\n",
    "assert len(oq_summary)!=0, 'No OQ calculations included in summary'\n",
    "oq_summary = pd.concat(oq_summary, ignore_index=True)\n",
    "\n",
    "# Remove duplicated rows\n",
    "dup = oq_summary.duplicated(subset=oq_summary.columns[3:])\n",
    "dup_details = oq_summary[['calc_id', 'description']][dup].drop_duplicates()\n",
    "assert dup.any() == False, f'Duplicated calculations. Remove unnecessary files:\\n{dup_details}'\n",
    "\n",
    "oq_summary['abs_bias'] = oq_summary.nominal_bias_mean.abs()\n",
    "oq_summary.sort_values('abs_bias', ascending=True, inplace=True)\n",
    "\n",
    "oq_summary.head(10)\n"
   ]
  },
  {
   "attachments": {},
   "cell_type": "markdown",
   "id": "79ac0638-5b73-4099-8c6c-3426df22c96c",
   "metadata": {},
   "source": [
    "## Save calculations summary"
   ]
  },
  {
   "cell_type": "code",
   "execution_count": null,
   "id": "4235b25e-4201-45ea-afa8-74ce326ca6e9",
   "metadata": {},
   "outputs": [],
   "source": [
    "# Save calculation summary in Sensitivity folder\n",
    "save_as = os.path.join(folder, 'calculation_summary.csv')\n",
    "oq_summary.to_csv(save_as, index=False)\n",
    "print(' File save in', save_as) "
   ]
  },
  {
   "cell_type": "code",
   "execution_count": null,
   "id": "036220f7",
   "metadata": {},
   "outputs": [],
   "source": []
  }
 ],
 "metadata": {
  "kernelspec": {
   "display_name": "Python 3.9.6 64-bit",
   "language": "python",
   "name": "python3"
  },
  "language_info": {
   "codemirror_mode": {
    "name": "ipython",
    "version": 3
   },
   "file_extension": ".py",
   "mimetype": "text/x-python",
   "name": "python",
   "nbconvert_exporter": "python",
   "pygments_lexer": "ipython3",
   "version": "3.9.13"
  },
  "vscode": {
   "interpreter": {
    "hash": "31f2aee4e71d21fbe5cf8b01ff0e069b9275f58929596ceb00d14d90e3e16cd6"
   }
  }
 },
 "nbformat": 4,
 "nbformat_minor": 5
}
