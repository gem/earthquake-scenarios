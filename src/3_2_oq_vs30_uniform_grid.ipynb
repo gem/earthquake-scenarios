{
 "cells": [
  {
   "attachments": {},
   "cell_type": "markdown",
   "id": "8e803765",
   "metadata": {},
   "source": [
    "# Create Vs30 uniform grid csv file"
   ]
  },
  {
   "attachments": {},
   "cell_type": "markdown",
   "id": "65150492",
   "metadata": {},
   "source": [
    "##  Configuration"
   ]
  },
  {
   "cell_type": "code",
   "execution_count": null,
   "id": "cf0962ff",
   "metadata": {},
   "outputs": [],
   "source": [
    "# Import dependencies\n",
    "import os\n",
    "import glob\n",
    "import pandas as pd\n",
    "\n",
    "import geopandas as gpd\n",
    "import contextily as ctx\n",
    "import matplotlib.pyplot as plt\n",
    "\n",
    "import utils\n",
    "from plots import gdf_epicentre, stations_plot\n",
    "from openquake.commands.prepare_site_model import main as oq_site_model"
   ]
  },
  {
   "attachments": {},
   "cell_type": "markdown",
   "id": "b706a100",
   "metadata": {},
   "source": [
    "## User input"
   ]
  },
  {
   "cell_type": "code",
   "execution_count": null,
   "id": "eabe9bd3",
   "metadata": {},
   "outputs": [],
   "source": [
    "# Events list from ECD\n",
    "event = '20150425_M7.8_Gorkha'\n",
    "\n",
    "# Reference rupture\n",
    "rupture = 'earthquake_rupture_model_USGS.xml'\n",
    "\n",
    "# Grid parameters in km\n",
    "# Indicate tuples with: (x_distance, y_distance, grid_spacing)\n",
    "corners = [(50, 50, 10), (250, 250, 20), (500, 500, 50)]\n",
    "\n",
    "# Define region CRS !!! (CRS UNITS MUST BE IN METERS)\n",
    "# Check for reference (see https://spatialreference.org/)\n",
    "region_crs = \"EPSG:3857\"  # EPSG:3857 - Web Mercator Auxiliary Sphere\n",
    "\n",
    "# Clip sites based on country boundaries (use ISO3)\n",
    "clip_countries = ['NPL'] # Empty list for the full map\n"
   ]
  },
  {
   "attachments": {},
   "cell_type": "markdown",
   "id": "45075385-a5d1-4fa0-8ef1-ff7c3bcb2fad",
   "metadata": {},
   "source": [
    "## Create region bounding box"
   ]
  },
  {
   "attachments": {},
   "cell_type": "markdown",
   "id": "66a51dc4-cc7c-4e11-b967-fb3e3a542924",
   "metadata": {},
   "source": [
    "### Generate grid spacing with respect to a given epicentral coordinates"
   ]
  },
  {
   "cell_type": "code",
   "execution_count": null,
   "id": "57136d15",
   "metadata": {},
   "outputs": [],
   "source": [
    "# Select rupture file and get folders\n",
    "rup_path = glob.glob(os.path.join('..', '*', '*', event, '*', rupture))[0]\n",
    "folder = rup_path[:rup_path.find('Rupture')]\n",
    "\n",
    "# Epicenter as GeoDataFrame\n",
    "epicenter = gdf_epicentre(rup_path)\n",
    "\n",
    "# Generate sites with a uniform grid spacing for each polygon\n",
    "epicenter_meters = epicenter.to_crs(region_crs)\n",
    "pointdf = utils.grid_spacing(corners, region_crs, epicenter_meters)\n",
    "\n",
    "# Plot grid\n",
    "ax = pointdf.plot(figsize=(12, 8))\n",
    "epicenter.plot(ax=ax, marker='*', color='gold', markersize=300)\n",
    "\n",
    "print('Grid size:', len(pointdf))"
   ]
  },
  {
   "attachments": {},
   "cell_type": "markdown",
   "id": "9f248eae",
   "metadata": {},
   "source": [
    "### Remove duplicate site when rounding to 5 decimal pleces (for OpenQuake) compatibility\n",
    "\n",
    "### Plot grid and stations to verify contours"
   ]
  },
  {
   "cell_type": "code",
   "execution_count": null,
   "id": "4ffaa094-73fb-45d2-b34a-74eb9214e63e",
   "metadata": {},
   "outputs": [],
   "source": [
    "st_path = glob.glob(os.path.join(folder, '*', 'stationlist_seismic.csv'))[0]\n",
    "# st_path = glob.glob(os.path.join(folder, '*', 'stationlist_all.csv'))[0]\n",
    "\n",
    "print('Ploting stations from:', os.path.basename(st_path))\n",
    "\n",
    "# Get station data and plot it\n",
    "stations = pd.read_csv(st_path)\n",
    "title = f'''Recording stations {event.replace('DRAFT_', '')}'''\n",
    "fig, ax = stations_plot(stations, title=title)\n",
    "\n",
    "# Get boundaries to clip piont grid (pointdf)\n",
    "world = gpd.read_file(gpd.datasets.get_path(\"naturalearth_lowres\"))\n",
    "if clip_countries:\n",
    "    countries = world[world['iso_a3'].isin(clip_countries)]\n",
    "    grid = pointdf.clip(countries)\n",
    "else:\n",
    "    grid = pointdf.copy()\n",
    "\n",
    "assert len(grid) != 0, f'All sites filtered out. Review the clipping boundaries {clip_countries}'\n",
    "\n",
    "\n",
    "# Convert site to DataFrame\n",
    "sites_vs30 = pd.DataFrame({'lon':grid.geometry.x, 'lat':grid.geometry.y}).reset_index()\n",
    "assert any(sites_vs30[['lon', 'lat']].duplicated()) == False, 'Duplicated sites. Check grid spacing'\n",
    "\n",
    "# Plot sites\n",
    "grid.plot(ax=ax,\n",
    "          alpha=0.2,\n",
    "          marker='s', \n",
    "          markersize=100,\n",
    "          color='blue',\n",
    "          zorder=0)\n",
    "\n",
    "# To adjust the extents of the plot:\n",
    "xmin, ymin, xmax, ymax = grid.total_bounds\n",
    "ax.set_xlim(xmin, xmax)\n",
    "ax.set_ylim(ymin, ymax)\n",
    "\n",
    "# Add epicenter in plot\n",
    "epicenter.plot(ax=ax, marker='*', color='gold', markersize=300)\n",
    "\n",
    "print('Number of sites:', len(grid))"
   ]
  },
  {
   "attachments": {},
   "cell_type": "markdown",
   "id": "559d77d4-cbd2-48b6-b651-8616fffdf380",
   "metadata": {},
   "source": [
    "## Add VS30 data from USGS values"
   ]
  },
  {
   "cell_type": "code",
   "execution_count": null,
   "id": "25169499",
   "metadata": {},
   "outputs": [],
   "source": [
    "# Vs30 reference file (no headers, use USGS format)\n",
    "# When running from Wilson, it's possible to use the worldv30 dataset\n",
    "# located at '/home/risk/sites_vs30/original/vs30mosaic.hdf5'\n",
    "vs30_path = '../vs30mosaic.hdf5'\n",
    "\n",
    "# Use OpenQuake site_model function\n",
    "site_model = oq_site_model([vs30_path],\n",
    "                            z1pt0=True,\n",
    "                            z2pt5=True,\n",
    "                            vs30measured=True,\n",
    "                            sites_csv=sites_vs30,\n",
    "                            output=None)\n",
    "site_model = pd.DataFrame(site_model.array)\n",
    "site_model.sids = 't_' + site_model.sids.astype(str)\n",
    "site_model = (site_model.rename(columns={'sids':'custom_site_id'}).round(5)) # Round to 5 decimal places (OQ compatibility)\n",
    "\n",
    "site_model"
   ]
  },
  {
   "attachments": {},
   "cell_type": "markdown",
   "id": "df2fb1b0",
   "metadata": {},
   "source": [
    "## Plot Vs30 grid"
   ]
  },
  {
   "cell_type": "code",
   "execution_count": null,
   "id": "974065e1-a19c-4dce-b664-402bdfc29a25",
   "metadata": {
    "tags": []
   },
   "outputs": [],
   "source": [
    "# Get common matplotlib style\n",
    "utils.matplotlib_style()\n",
    "\n",
    "# Create GeoDataFrame with WGS84\n",
    "gdf = gpd.GeoDataFrame(site_model,\n",
    "                       geometry=gpd.points_from_xy(site_model.lon, site_model.lat),\n",
    "                       crs='EPSG:4326')\n",
    "\n",
    "# Plot station Vs30 value\n",
    "fig, ax = plt.subplots(figsize=(12, 8)) # , alpha=0.5) # alpha not supported in OQ libraries\n",
    "ax.set_aspect('equal')\n",
    "\n",
    "gdf.plot(ax=ax,\n",
    "         column='vs30',\n",
    "         alpha=0.7,\n",
    "         marker='s', \n",
    "         markersize=15,\n",
    "         cmap='Greens',\n",
    "         edgecolor='whitesmoke', \n",
    "         linewidth=0.5,\n",
    "         label='USGS Vs30',\n",
    "         legend=True,\n",
    "         legend_kwds={'label': 'Vs30 (m/s)', 'pad':0.05, 'shrink':0.8,\n",
    "                      'orientation': 'horizontal'})\n",
    "\n",
    "\n",
    "# Add default basemap: Stamen Terrain (uses Web Mercator --> epsg=3857)\n",
    "# Additional basemaps available at:\n",
    "# https://contextily.readthedocs.io/en/latest/providers_deepdive.html#What-is-this-%E2%80%9Cprovider%E2%80%9D-object-?\n",
    "ctx.add_basemap(ax, source=ctx.providers.CartoDB.Positron,\n",
    "                crs=gdf.crs, alpha=0.5)\n",
    "\n",
    "ax.legend(loc='lower left')\n",
    "ax.set_title(f'Vs30 with variable grid {corners}', \n",
    "             fontsize=14)\n",
    "\n",
    "# Add epicenter in plot\n",
    "epicenter.plot(ax=ax, marker='*', color='gold', markersize=300)"
   ]
  },
  {
   "attachments": {},
   "cell_type": "markdown",
   "id": "573fc619-d6e2-452e-b9b0-e8eef7eef5e6",
   "metadata": {},
   "source": [
    "## Save files"
   ]
  },
  {
   "cell_type": "code",
   "execution_count": null,
   "id": "8ff9c528-de9a-4372-ac80-7cf3be4b96b3",
   "metadata": {},
   "outputs": [],
   "source": [
    "# Folder to wirte outputs\n",
    "out_folder = os.path.join(folder, 'OpenQuake_gmfs')\n",
    "\n",
    "# Save file\n",
    "cols = ['custom_site_id', 'lon', 'lat', 'vs30','vs30measured','z1pt0','z2pt5']\n",
    "save_as = f'site_model.csv'\n",
    "out_path = os.path.join(out_folder, save_as)\n",
    "site_model[cols].to_csv(out_path, encoding='utf-8', index=False)\n",
    "print('\\n Saving site_model in:\\n', out_path)\n",
    "\n",
    "# Save figure\n",
    "out_path = os.path.join(out_folder, 'site_model.png')\n",
    "fig.savefig(out_path, facecolor=\"w\", \n",
    "            dpi=100,\n",
    "            bbox_inches='tight')\n",
    "print(out_path)"
   ]
  },
  {
   "cell_type": "code",
   "execution_count": null,
   "id": "772041f6",
   "metadata": {},
   "outputs": [],
   "source": []
  }
 ],
 "metadata": {
  "kernelspec": {
   "display_name": "Python 3.9.6 64-bit",
   "language": "python",
   "name": "python3"
  },
  "language_info": {
   "codemirror_mode": {
    "name": "ipython",
    "version": 3
   },
   "file_extension": ".py",
   "mimetype": "text/x-python",
   "name": "python",
   "nbconvert_exporter": "python",
   "pygments_lexer": "ipython3",
   "version": "3.9.13"
  },
  "vscode": {
   "interpreter": {
    "hash": "31f2aee4e71d21fbe5cf8b01ff0e069b9275f58929596ceb00d14d90e3e16cd6"
   }
  }
 },
 "nbformat": 4,
 "nbformat_minor": 5
}
