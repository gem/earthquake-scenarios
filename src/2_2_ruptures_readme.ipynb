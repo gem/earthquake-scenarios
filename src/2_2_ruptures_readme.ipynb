{
 "cells": [
  {
   "attachments": {},
   "cell_type": "markdown",
   "id": "8e803765",
   "metadata": {},
   "source": [
    "# Earthquake Ruptures"
   ]
  },
  {
   "attachments": {},
   "cell_type": "markdown",
   "id": "65150492",
   "metadata": {},
   "source": [
    "##  Configuration"
   ]
  },
  {
   "cell_type": "code",
   "execution_count": null,
   "id": "cf0962ff",
   "metadata": {},
   "outputs": [],
   "source": [
    "# Import dependencies\n",
    "import os\n",
    "import glob\n",
    "import numpy as np\n",
    "import pandas as pd\n",
    "import matplotlib.pyplot as plt\n",
    "\n",
    "from get_rupture_info import repture_xml_to_df"
   ]
  },
  {
   "attachments": {},
   "cell_type": "markdown",
   "id": "b706a100",
   "metadata": {},
   "source": [
    "## User input"
   ]
  },
  {
   "cell_type": "code",
   "execution_count": null,
   "id": "eabe9bd3",
   "metadata": {},
   "outputs": [],
   "source": [
    "# Event name\n",
    "event = '20150425_M7.8_Gorkha'"
   ]
  },
  {
   "attachments": {},
   "cell_type": "markdown",
   "id": "5cdeda2e",
   "metadata": {},
   "source": [
    "## Read OQ rupture data"
   ]
  },
  {
   "cell_type": "code",
   "execution_count": null,
   "id": "000fa198",
   "metadata": {},
   "outputs": [],
   "source": [
    "# Select all rupture files in OQ format\n",
    "in_path = os.path.join(event, 'Rupture')\n",
    "rup_files = glob.glob(os.path.join('..', '*', '*', in_path, 'earthquake_rupture_model*.xml'))\n",
    "\n",
    "folder = os.path.dirname(rup_files[0])\n",
    "\n",
    "df = [ ]\n",
    "rups = {}\n",
    "for rupfile in sorted(rup_files):\n",
    "    source = os.path.basename(rupfile)[25:-4]\n",
    "    # print(source)\n",
    "    rups[source], rup_df = repture_xml_to_df(rupfile)\n",
    "    rup_df.index = [source]\n",
    "    df.append(rup_df)\n",
    "\n",
    "df = pd.concat(df)\n",
    "df.index.name = 'source'\n",
    "\n",
    "# Round coordinates estimated by OQ\n",
    "cols = ['strike', 'dip', 'rake']\n",
    "df[cols] = df[cols].round(2)\n",
    "\n",
    "df"
   ]
  },
  {
   "attachments": {},
   "cell_type": "markdown",
   "id": "4b3b5098-e7d8-416a-b90f-452926fa0a23",
   "metadata": {},
   "source": [
    "### Rupture mechanism and trt\n",
    "Read rupture details from `earthquake_information.csv`"
   ]
  },
  {
   "cell_type": "code",
   "execution_count": null,
   "id": "41e3313a-dc6c-484a-b729-d0e314d5ae66",
   "metadata": {},
   "outputs": [],
   "source": [
    "eq_info = glob.glob(os.path.join('..', '*', event, 'earthquake_information.csv'))\n",
    "info = pd.read_csv(eq_info[0], index_col='FIELD')\n",
    "mechanism = info.loc['Fault_mechanism', 'DESCRIPTION']\n",
    "trt = info.loc['Tectonic_region_type', 'DESCRIPTION']\n",
    "\n",
    "print(f'Fault_mechanism: {mechanism}') \n",
    "print(f'Tectonic_region_type: {trt}')"
   ]
  },
  {
   "attachments": {},
   "cell_type": "markdown",
   "id": "df2fb1b0",
   "metadata": {},
   "source": [
    "## Plot ruptures"
   ]
  },
  {
   "cell_type": "code",
   "execution_count": null,
   "id": "974065e1-a19c-4dce-b664-402bdfc29a25",
   "metadata": {},
   "outputs": [],
   "source": [
    "# Plot rupture geometry and hypocenter\n",
    "fig = plt.figure(figsize=(10,10))\n",
    "\n",
    "for source, rup in rups.items():\n",
    "    try:\n",
    "        plt.plot(*rup.surface.get_surface_boundaries(), label=source)\n",
    "    except AttributeError as error:\n",
    "        print(f'No possible to plot {source} geometry:\\n', error)\n",
    "\n",
    "plt.gca().set_prop_cycle(None)\n",
    "\n",
    "for source, rup in rups.items():\n",
    "    plt.plot(rup.hypocenter.longitude, rup.hypocenter.latitude,\n",
    "             '*', markersize=10)\n",
    "\n",
    "plt.legend(loc='best')\n",
    "plt.axis('equal')\n",
    "\n",
    "# Save figure\n",
    "fig.savefig(os.path.join(folder, 'earthquake_ruptures.png'),\n",
    "            dpi=300,\n",
    "            bbox_inches='tight')"
   ]
  },
  {
   "attachments": {},
   "cell_type": "markdown",
   "id": "44e288e3-452f-4f8e-a92f-2ac9fb903f93",
   "metadata": {},
   "source": [
    "## Update README"
   ]
  },
  {
   "cell_type": "code",
   "execution_count": null,
   "id": "b9a0eb96-041f-4d19-8a4e-b93349550f39",
   "metadata": {},
   "outputs": [],
   "source": [
    "# Visualise README file\n",
    "readme = os.path.join(folder, 'README.md')\n",
    "\n",
    "# Read original README\n",
    "f = open(readme, 'r')\n",
    "content = f.read()\n",
    "f.close\n",
    "print(*content.split('\\n'), sep='\\n')"
   ]
  },
  {
   "attachments": {},
   "cell_type": "markdown",
   "id": "7e440e11-e610-424e-a6d8-a8f4ea651d32",
   "metadata": {},
   "source": [
    "### Update `Rupture information` table"
   ]
  },
  {
   "cell_type": "code",
   "execution_count": null,
   "id": "48353df0-9729-4dc7-914b-7a1b38bfba6f",
   "metadata": {},
   "outputs": [],
   "source": [
    "# Update README\n",
    "f=open(os.path.join(folder, 'README.md'), 'w')\n",
    "\n",
    "# md table with rupture details\n",
    "details = pd.DataFrame({'atribute': ['Fault mechanism', 'Tectonic region type'], \n",
    "                        'description': [mechanism, trt]})\n",
    "rup_details = details.to_markdown(index=False)\n",
    "\n",
    "# md table with rupture nodal plane\n",
    "cols = ['longitude', 'latitude', 'depth', 'strike', 'dip', 'rake', 'mag']\n",
    "rup_hyps = df[cols].fillna('').to_markdown()\n",
    "\n",
    "# Update README file\n",
    "to_add = f'''# RUPTURE INFORMATION\n",
    "    \n",
    "## Rupture details\\n\n",
    "{rup_details}\n",
    "\n",
    "### Preferred nodal plane solution\\n\n",
    "{rup_hyps}\n",
    "\n",
    "### Rupture figure\\n\n",
    "![](earthquake_ruptures.png)\n",
    "\n",
    "'''\n",
    "f.write(to_add)\n",
    "\n",
    "# Include references\n",
    "refs = content[content.find('## References\\n'):]\n",
    "f.write(refs)\n",
    "f.close()\n",
    "\n",
    "# Print new README\n",
    "f = open(readme, 'r')\n",
    "content = f.read()\n",
    "f.close\n",
    "print('\\n', *content.split('\\n'), sep='\\n')"
   ]
  }
 ],
 "metadata": {
  "kernelspec": {
   "display_name": "Python 3 (ipykernel)",
   "language": "python",
   "name": "python3"
  },
  "language_info": {
   "codemirror_mode": {
    "name": "ipython",
    "version": 3
   },
   "file_extension": ".py",
   "mimetype": "text/x-python",
   "name": "python",
   "nbconvert_exporter": "python",
   "pygments_lexer": "ipython3",
   "version": "3.9.13"
  },
  "vscode": {
   "interpreter": {
    "hash": "31f2aee4e71d21fbe5cf8b01ff0e069b9275f58929596ceb00d14d90e3e16cd6"
   }
  }
 },
 "nbformat": 4,
 "nbformat_minor": 5
}
