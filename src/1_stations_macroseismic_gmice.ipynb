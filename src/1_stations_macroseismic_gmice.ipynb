{
 "cells": [
  {
   "attachments": {},
   "cell_type": "markdown",
   "metadata": {},
   "source": [
    "# Implement alternate GMICE for `Stations_{Source}.csv`"
   ]
  },
  {
   "attachments": {},
   "cell_type": "markdown",
   "metadata": {},
   "source": [
    "## Configuration"
   ]
  },
  {
   "cell_type": "code",
   "execution_count": null,
   "metadata": {},
   "outputs": [],
   "source": [
    "import os\n",
    "import glob\n",
    "import pandas as pd\n",
    "import matplotlib.pyplot as plt\n",
    "\n",
    "from gmice import gmice"
   ]
  },
  {
   "attachments": {},
   "cell_type": "markdown",
   "metadata": {},
   "source": [
    "## User input\n",
    "Specify Stations source and desired GMICE\n",
    "\n",
    "Available GMICE are listed below, based on its generic functional form (i.e., not including additional metrics such as Mw, R)\n",
    "\n",
    "Simplified predictive equations (MMI = a + b log Y):\n",
    "* `PanjamaniEtAl2016`: Himalayan region; supports PGA, PGV, SA(0.3), SA(1.0), SA(2.0), SA(3.0)\n",
    "* `TianEtAl2021`: GMICE for China; supports PGA, PGV, SA(0.3), SA(1.0), SA(2.0), SA(3.0)\n",
    "* `AhmadzadehEtAl2020`: Iran; supports PGA, PGV\n",
    "* `CataldiEtAl2021`: Italy; supports PGA, PGV, SA(0.3), SA(1.0), SA(3.0)\n",
    "\n",
    "Piecewise equations (not yet implemented):\n",
    "* `CaprioEtAl2015`: Global; supports PGA, PGV\n",
    "* `MoratalaEtAl2021`: New Zealand; supports PGA, PGV\n",
    "* `MontalvoArrietaEtAl2019`: Mexico (Puebla–Morelos earthquake); supports PGA, SA(1.0), SA(2.0), SA(3.0)\n",
    "\n",
    "The GMICE should be selected based on the similarity to your region in terms of prevalent construction practices and tectonic region.\n",
    "\n",
    "<!-- Other functional forms (not yet implemented):\n",
    "* `GomezCaperaEtAl2020`: Italy;\n",
    "\n",
    "Coefficients unavailable:\n",
    "* `CiliaBaker2018`: Chilean Megathrust Earthquakes\n",
    "\n",
    "Dependent on R and Mw (not yet implemented):\n",
    "* There are many from the same references as above, but they requires additional inputs and the desired R metric may not be readily available in the station data -->\n",
    "\n",
    "\n"
   ]
  },
  {
   "cell_type": "code",
   "execution_count": null,
   "metadata": {},
   "outputs": [],
   "source": [
    "# Event name\n",
    "event = '20030521_M6.8_Boumerdes'\n",
    "# Station source\n",
    "source = \"USGS\"\n",
    "# GMICE name\n",
    "gmice_name = \"CataldiEtAl2021\"\n",
    "\n",
    "# Arrange station path\n",
    "station_paths = glob.glob(\n",
    "    os.path.join('..', '*', event, 'Recording_Stations', \n",
    "                 f'Stations_{source}.csv'))\n",
    "station_path = [file_path for file_path in station_paths if file_path.endswith(f\"Stations_{source}.csv\")][0]\n",
    "print(f\"Will modify {station_path}\")\n",
    "\n",
    "# Read station path\n",
    "stations = pd.read_csv(station_path, encoding=\"utf-8\")\n",
    "\n",
    "# Preview\n",
    "stations.head(5)"
   ]
  },
  {
   "cell_type": "code",
   "execution_count": null,
   "metadata": {},
   "outputs": [],
   "source": [
    "# Apply selected GMICE\n",
    "out, imts = gmice(gmice_name, stations)\n",
    "\n",
    "# Determine idx, jdx\n",
    "idx = stations.STATION_TYPE == \"macroseismic\"\n",
    "jdx = out.STATION_TYPE == \"macroseismic\"\n",
    "\n",
    "# Determine adjusted items\n",
    "print(f\"The following imts were adjusted for the {idx.sum():,.0f} macroseismic stations: {imts}\")\n",
    "\n",
    "# Plot results\n",
    "for imt in imts:\n",
    "    fig, ax = plt.subplots()\n",
    "    if f'{imt}_VALUE' in stations.columns:\n",
    "        stations[idx].plot.scatter(x=\"MMI_VALUE\", y=f'{imt}_VALUE', ax=ax,\n",
    "                            color='k', label=\"Original values\")\n",
    "    out[jdx].plot.scatter(x=\"MMI_VALUE\", y=f'{imt}_VALUE', ax=ax,\n",
    "                          color='b', label=\"Adjusted values\")\n",
    "    ax.set(title=f\"GMICE: {gmice_name}\")\n",
    "    plt.show()\n",
    "\n",
    "# Preview results\n",
    "out[idx].head(5)"
   ]
  },
  {
   "cell_type": "code",
   "execution_count": null,
   "metadata": {},
   "outputs": [],
   "source": [
    "# Write to new file\n",
    "out_file = f\"Stations_{source}_GMICE.csv\"\n",
    "out_path = os.path.join(os.path.dirname(station_path), out_file)\n",
    "out.to_csv(out_path, index=False)\n",
    "print(f\"Wrote {out_path}\\n\",\n",
    "      f\"{idx.sum():,.0f} macroseismic stations with modified IMT values: {imts}\")"
   ]
  }
 ],
 "metadata": {
  "kernelspec": {
   "display_name": "Python 3",
   "language": "python",
   "name": "python3"
  },
  "language_info": {
   "codemirror_mode": {
    "name": "ipython",
    "version": 3
   },
   "file_extension": ".py",
   "mimetype": "text/x-python",
   "name": "python",
   "nbconvert_exporter": "python",
   "pygments_lexer": "ipython3",
   "version": "3.9.13"
  },
  "orig_nbformat": 4,
  "vscode": {
   "interpreter": {
    "hash": "31f2aee4e71d21fbe5cf8b01ff0e069b9275f58929596ceb00d14d90e3e16cd6"
   }
  }
 },
 "nbformat": 4,
 "nbformat_minor": 2
}
