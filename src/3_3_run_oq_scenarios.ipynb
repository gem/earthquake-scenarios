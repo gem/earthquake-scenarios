{
 "cells": [
  {
   "attachments": {},
   "cell_type": "markdown",
   "id": "9c8094c5-399d-4d72-ba38-cdb831f8fe9e",
   "metadata": {},
   "source": [
    "# Run OpenQuake scenarios sensitivity analysis"
   ]
  },
  {
   "attachments": {},
   "cell_type": "markdown",
   "id": "b70a3db0-9009-499d-9e4c-262c6c1d4a84",
   "metadata": {},
   "source": [
    "## Configuration and user input"
   ]
  },
  {
   "cell_type": "code",
   "execution_count": null,
   "id": "3488aa53",
   "metadata": {},
   "outputs": [],
   "source": [
    "# Import dependencies\n",
    "import os, glob\n",
    "import oq_run_many as oq\n",
    "from oq_parse_gmfs import oq_get_gmfs, write_gmf_csv\n",
    "\n",
    "\n",
    "# Event name\n",
    "event = '20030521_M6.8_Boumerdes'\n",
    "\n",
    "# Indicate ruptures to be considered in calculations\n",
    "ruptures_to_include = ['USGS', 'BelabbesEtAl2009', 'SemmaneEtAl2005']\n",
    "\n",
    "# Ground Motion Models or GMPE's to include.\n",
    "gmm_sources_to_include = ['GEM', 'USGS']"
   ]
  },
  {
   "attachments": {},
   "cell_type": "markdown",
   "id": "1fede77e",
   "metadata": {},
   "source": [
    "## Folders and files"
   ]
  },
  {
   "cell_type": "code",
   "execution_count": null,
   "id": "950a19fb",
   "metadata": {},
   "outputs": [],
   "source": [
    "# Find all rupture files\n",
    "all_rups = glob.glob(os.path.join('..', '*', event,\n",
    "                                  'Rupture',\n",
    "                                  'earthquake_rupture_model_*'))\n",
    "\n",
    "# Verify that ruptures exist in folder\n",
    "ruptures = []\n",
    "for author in ruptures_to_include:\n",
    "    exist = False \n",
    "    for rup in all_rups:\n",
    "        if author in rup:\n",
    "            exist = True\n",
    "            ruptures.append(rup)\n",
    "    if not exist:\n",
    "        raise ValueError(f'No rupture found for author {author}!')\n",
    "\n",
    "# OQ rupture paths\n",
    "oq_rups = [f'../Rupture/{os.path.basename(rup)}' for rup in ruptures]\n",
    "\n",
    "# OQ gmlt paths\n",
    "oq_gmlt = [f'gmpe_logic_tree_{gmlt}.xml' for gmlt in gmm_sources_to_include]\n",
    "\n",
    "# Event folder\n",
    "country = ruptures[0].split(os.sep)[1]\n",
    "root_folder = ruptures[0][:ruptures[0].find('Rupture')]\n",
    "oq_folder = os.path.join(root_folder, 'OpenQuake_gmfs')\n",
    "oq_sens = os.path.join(oq_folder, 'Sensitivity')\n",
    "\n",
    "# Create Sensitivity folder\n",
    "if os.path.isdir(oq_sens):\n",
    "    print('Sensitivity folder already exists\\n')\n",
    "else:\n",
    "    os.mkdir(oq_sens)\n",
    "    print('Sensitivity folder created\\n')\n",
    "\n",
    "\n",
    "print('GMLT paths for OQ:', oq_gmlt)\n",
    "print('Rupture paths for OQ:')\n",
    "oq_rups\n"
   ]
  },
  {
   "attachments": {},
   "cell_type": "markdown",
   "id": "edbe8143",
   "metadata": {},
   "source": [
    "## Run calculation without conditioning the GMFs\n",
    "\n",
    "### Stations: None"
   ]
  },
  {
   "cell_type": "code",
   "execution_count": null,
   "id": "67f92a59",
   "metadata": {},
   "outputs": [],
   "source": [
    "# Job.ini to be use in the sensitivity analysis\n",
    "job_ini = os.path.join(oq_folder, 'job_stations_none.ini')\n",
    "\n",
    "# Run OpenQuake calculations\n",
    "jobs = oq.main(job_ini, oq_rups, oq_gmlt, concurrent_jobs=1)\n",
    "\n",
    "# For each calculation, save gmfs in csv (only for PGA)\n",
    "for job in jobs:\n",
    "    calc_id = job.calc_id\n",
    "    df, txt = oq_get_gmfs(calc_id)\n",
    "    out_df = write_gmf_csv(df, 'PGA', comment=txt, \n",
    "                           out_path=oq_sens, suffix=calc_id)"
   ]
  },
  {
   "attachments": {},
   "cell_type": "markdown",
   "id": "e0ae4d8b",
   "metadata": {},
   "source": [
    "### Stations: Seismic"
   ]
  },
  {
   "cell_type": "code",
   "execution_count": null,
   "id": "8f8d9363",
   "metadata": {},
   "outputs": [],
   "source": [
    "# Job.ini to be use in the sensitivity analysis\n",
    "job_ini = os.path.join(oq_folder, 'job_stations_seismic.ini')\n",
    "\n",
    "# Run OpenQuake calculations\n",
    "jobs = oq.main(job_ini, oq_rups, oq_gmlt, concurrent_jobs=1)\n",
    "\n",
    "# For each calculation, save gmfs in csv (only for PGA)\n",
    "for job in jobs:\n",
    "    calc_id = job.calc_id\n",
    "    df, txt = oq_get_gmfs(calc_id)\n",
    "    out_df = write_gmf_csv(df, 'PGA', comment=txt, \n",
    "                           out_path=oq_sens, suffix=calc_id)"
   ]
  },
  {
   "attachments": {},
   "cell_type": "markdown",
   "id": "80ceb18f",
   "metadata": {},
   "source": [
    "### Stations: All (i.e., seismic and macroseismic stations)"
   ]
  },
  {
   "cell_type": "code",
   "execution_count": null,
   "id": "8857a293",
   "metadata": {},
   "outputs": [],
   "source": [
    "# # Job.ini to be use in the sensitivity analysis\n",
    "# job_ini = os.path.join(oq_folder, 'job_stations_all.ini')\n",
    "\n",
    "# # Run OpenQuake calculations\n",
    "# jobs = oq.main(job_ini, oq_rups, oq_gmlt, concurrent_jobs=1)\n",
    "\n",
    "# # For each calculation, save gmfs in csv (only for PGA)\n",
    "# for job in jobs:\n",
    "#     calc_id = job.calc_id\n",
    "#     df, txt = oq_get_gmfs(calc_id)\n",
    "#     out_df = write_gmf_csv(df, 'PGA', comment=txt, \n",
    "#                            out_path=oq_sens, suffix=calc_id)"
   ]
  }
 ],
 "metadata": {
  "kernelspec": {
   "display_name": "Python 3.9.6 64-bit",
   "language": "python",
   "name": "python3"
  },
  "language_info": {
   "codemirror_mode": {
    "name": "ipython",
    "version": 3
   },
   "file_extension": ".py",
   "mimetype": "text/x-python",
   "name": "python",
   "nbconvert_exporter": "python",
   "pygments_lexer": "ipython3",
   "version": "3.11.6"
  },
  "vscode": {
   "interpreter": {
    "hash": "31f2aee4e71d21fbe5cf8b01ff0e069b9275f58929596ceb00d14d90e3e16cd6"
   }
  }
 },
 "nbformat": 4,
 "nbformat_minor": 5
}
