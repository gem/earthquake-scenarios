{
 "cells": [
  {
   "attachments": {},
   "cell_type": "markdown",
   "id": "9c8094c5-399d-4d72-ba38-cdb831f8fe9e",
   "metadata": {},
   "source": [
    "# Run OpenQuake scenarios sensitivity analysis"
   ]
  },
  {
   "attachments": {},
   "cell_type": "markdown",
   "id": "b70a3db0-9009-499d-9e4c-262c6c1d4a84",
   "metadata": {},
   "source": [
    "## Configuration and user input"
   ]
  },
  {
   "cell_type": "code",
   "execution_count": 6,
   "id": "3488aa53",
   "metadata": {},
   "outputs": [],
   "source": [
    "# Import dependencies\n",
    "import os, glob\n",
    "import oq_run_many as oq\n",
    "from oq_parse_gmfs import oq_get_gmfs, write_gmf_csv\n",
    "\n",
    "\n",
    "# Event name\n",
    "event = '20030521_M6.8_Boumerdes'\n",
    "\n",
    "# Indicate ruptures to be considered in calculations\n",
    "ruptures_to_include = ['USGS', 'BelabbesEtAl2009', 'SemmaneEtAl2005']\n",
    "\n",
    "# Ground Motion Models or GMPE's to include.\n",
    "gmm_sources_to_include = ['GEM', 'USGS']"
   ]
  },
  {
   "attachments": {},
   "cell_type": "markdown",
   "id": "1fede77e",
   "metadata": {},
   "source": [
    "## Folders and files"
   ]
  },
  {
   "cell_type": "code",
   "execution_count": 7,
   "id": "950a19fb",
   "metadata": {},
   "outputs": [
    {
     "name": "stdout",
     "output_type": "stream",
     "text": [
      "Sensitivity folder already exists\n",
      "\n",
      "GMLT paths for OQ: ['gmpe_logic_tree_GEM.xml', 'gmpe_logic_tree_USGS.xml']\n",
      "Rupture paths for OQ:\n"
     ]
    },
    {
     "data": {
      "text/plain": [
       "['../Rupture/earthquake_rupture_model_USGS.xml',\n",
       " '../Rupture/earthquake_rupture_model_BelabbesEtAl2009.xml',\n",
       " '../Rupture/earthquake_rupture_model_SemmaneEtAl2005.xml']"
      ]
     },
     "execution_count": 7,
     "metadata": {},
     "output_type": "execute_result"
    }
   ],
   "source": [
    "# Find all rupture files\n",
    "all_rups = glob.glob(os.path.join('..', '*', event,\n",
    "                                  'Rupture',\n",
    "                                  'earthquake_rupture_model_*'))\n",
    "\n",
    "# Verify that ruptures exist in folder\n",
    "ruptures = []\n",
    "for author in ruptures_to_include:\n",
    "    exist = False \n",
    "    for rup in all_rups:\n",
    "        if author in rup:\n",
    "            exist = True\n",
    "            ruptures.append(rup)\n",
    "    if not exist:\n",
    "        raise ValueError(f'No rupture found for author {author}!')\n",
    "\n",
    "# OQ rupture paths\n",
    "oq_rups = [f'../Rupture/{os.path.basename(rup)}' for rup in ruptures]\n",
    "\n",
    "# OQ gmlt paths\n",
    "oq_gmlt = [f'gmpe_logic_tree_{gmlt}.xml' for gmlt in gmm_sources_to_include]\n",
    "\n",
    "# Event folder\n",
    "country = ruptures[0].split(os.sep)[1]\n",
    "root_folder = ruptures[0][:ruptures[0].find('Rupture')]\n",
    "oq_folder = os.path.join(root_folder, 'OpenQuake_gmfs')\n",
    "oq_sens = os.path.join(oq_folder, 'Sensitivity')\n",
    "\n",
    "# Create Sensitivity folder\n",
    "if os.path.isdir(oq_sens):\n",
    "    print('Sensitivity folder already exists\\n')\n",
    "else:\n",
    "    os.mkdir(oq_sens)\n",
    "    print('Sensitivity folder created\\n')\n",
    "\n",
    "\n",
    "print('GMLT paths for OQ:', oq_gmlt)\n",
    "print('Rupture paths for OQ:')\n",
    "oq_rups\n"
   ]
  },
  {
   "attachments": {},
   "cell_type": "markdown",
   "id": "edbe8143",
   "metadata": {},
   "source": [
    "## Run calculation without conditioning the GMFs\n",
    "\n",
    "### Stations: None"
   ]
  },
  {
   "cell_type": "code",
   "execution_count": 8,
   "id": "67f92a59",
   "metadata": {},
   "outputs": [
    {
     "name": "stderr",
     "output_type": "stream",
     "text": [
      "[2023-12-21 10:35:37 #468 INFO] nicolepaul@Nicoles-MacBook-Pro.local running /Users/nicolepaul/Code/earthquake-scenarios/Algeria/20030521_M6.8_Boumerdes/OpenQuake_gmfs/job_stations_none.ini [--hc=None]\n",
      "[2023-12-21 10:35:37 #468 INFO] Using engine version 3.19.0-gitea3782ec67\n",
      "[2023-12-21 10:35:38 #468 WARNING] Using 16 processpool workers\n",
      "[2023-12-21 10:35:38 #468 INFO] Running EventBasedCalculator with concurrent_tasks = 32\n",
      "[2023-12-21 10:35:38 #468 INFO] Checksum of the inputs: 790354818 (total size 425.82 KB)\n",
      "[2023-12-21 10:35:38 #468 INFO] Extracting the hazard sites from the site model\n",
      "[2023-12-21 10:35:38 #468 INFO] Read N=8131 hazard sites and L=1 hazard levels\n",
      "[2023-12-21 10:35:38 #468 INFO] min_iml=[1.e-10]\n",
      "[2023-12-21 10:35:38 #468 INFO] Reordering the ruptures and storing the events\n",
      "[2023-12-21 10:35:38 #468 INFO] Reading 1 ruptures\n",
      "[2023-12-21 10:35:38 #468 INFO] Affected sites = 8131.0 per rupture\n",
      "[2023-12-21 10:35:38 #468 INFO] totw = 3\n",
      "[2023-12-21 10:35:42 #468 INFO] gen_event_based 100% [1 submitted, 0 queued]\n",
      "[2023-12-21 10:35:42 #468 INFO] Received 1 * 255.01 KB {'gmfdata': '254.37 KB', 'sig_eps': '337 B', 'times': '313 B'} in 4 seconds from gen_event_based\n",
      "[2023-12-21 10:35:42 #468 INFO] Stored 190.65 KB of GMFs\n",
      "[2023-12-21 10:35:44 #468 INFO] Checking stored GMFs\n",
      "[2023-12-21 10:35:44 #468 WARNING] No PGAs over 5 g found\n",
      "[2023-12-21 10:35:44 #468 INFO] Exposing the outputs to the database\n",
      "[2023-12-21 10:35:44 #468 INFO] Stored 1.2 MB on /Users/nicolepaul/oqdata/calc_468.hdf5 in 6 seconds\n"
     ]
    },
    {
     "name": "stdout",
     "output_type": "stream",
     "text": [
      "  id | name\n",
      "1078 | Events\n",
      "1079 | Full Report\n",
      "1080 | Ground Motion Fields\n",
      "1081 | Realizations\n"
     ]
    },
    {
     "name": "stderr",
     "output_type": "stream",
     "text": [
      "[2023-12-21 10:35:47 #469 INFO] nicolepaul@Nicoles-MacBook-Pro.local running /Users/nicolepaul/Code/earthquake-scenarios/Algeria/20030521_M6.8_Boumerdes/OpenQuake_gmfs/job_stations_none.ini [--hc=None]\n",
      "[2023-12-21 10:35:47 #469 INFO] Using engine version 3.19.0-gitea3782ec67\n",
      "[2023-12-21 10:35:49 #469 WARNING] An error occurred while calling https://api.openquake.org/engine/latest to check if the installed version of the engine is up to date.\n",
      "[2023-12-21 10:35:49 #469 WARNING] Using 16 processpool workers\n",
      "[2023-12-21 10:35:49 #469 INFO] Running EventBasedCalculator with concurrent_tasks = 32\n",
      "[2023-12-21 10:35:49 #469 INFO] Checksum of the inputs: 632533997 (total size 425.66 KB)\n",
      "[2023-12-21 10:35:49 #469 INFO] Extracting the hazard sites from the site model\n",
      "[2023-12-21 10:35:49 #469 INFO] Read N=8131 hazard sites and L=1 hazard levels\n",
      "[2023-12-21 10:35:49 #469 INFO] min_iml=[1.e-10]\n",
      "[2023-12-21 10:35:49 #469 INFO] Reordering the ruptures and storing the events\n",
      "[2023-12-21 10:35:49 #469 INFO] Reading 1 ruptures\n",
      "[2023-12-21 10:35:49 #469 INFO] Affected sites = 8131.0 per rupture\n",
      "[2023-12-21 10:35:49 #469 INFO] totw = 3\n",
      "[2023-12-21 10:35:53 #469 INFO] gen_event_based 100% [1 submitted, 0 queued]\n",
      "[2023-12-21 10:35:53 #469 INFO] Received 1 * 255.01 KB {'gmfdata': '254.37 KB', 'sig_eps': '337 B', 'times': '313 B'} in 4 seconds from gen_event_based\n",
      "[2023-12-21 10:35:53 #469 INFO] Stored 190.65 KB of GMFs\n",
      "[2023-12-21 10:35:54 #469 INFO] Checking stored GMFs\n",
      "[2023-12-21 10:35:54 #469 WARNING] No PGAs over 5 g found\n",
      "[2023-12-21 10:35:54 #469 INFO] Exposing the outputs to the database\n",
      "[2023-12-21 10:35:54 #469 INFO] Stored 1.2 MB on /Users/nicolepaul/oqdata/calc_469.hdf5 in 5 seconds\n"
     ]
    },
    {
     "name": "stdout",
     "output_type": "stream",
     "text": [
      "  id | name\n",
      "1082 | Events\n",
      "1083 | Full Report\n",
      "1084 | Ground Motion Fields\n",
      "1085 | Realizations\n"
     ]
    },
    {
     "name": "stderr",
     "output_type": "stream",
     "text": [
      "[2023-12-21 10:35:58 #470 INFO] nicolepaul@Nicoles-MacBook-Pro.local running /Users/nicolepaul/Code/earthquake-scenarios/Algeria/20030521_M6.8_Boumerdes/OpenQuake_gmfs/job_stations_none.ini [--hc=None]\n",
      "[2023-12-21 10:35:58 #470 INFO] Using engine version 3.19.0-gitea3782ec67\n",
      "[2023-12-21 10:35:59 #470 WARNING] An error occurred while calling https://api.openquake.org/engine/latest to check if the installed version of the engine is up to date.\n",
      "[2023-12-21 10:35:59 #470 WARNING] Using 16 processpool workers\n",
      "[2023-12-21 10:35:59 #470 INFO] Running EventBasedCalculator with concurrent_tasks = 32\n",
      "[2023-12-21 10:35:59 #470 INFO] Checksum of the inputs: 84784208 (total size 425.67 KB)\n",
      "[2023-12-21 10:35:59 #470 INFO] Extracting the hazard sites from the site model\n",
      "[2023-12-21 10:35:59 #470 INFO] Read N=8131 hazard sites and L=1 hazard levels\n",
      "[2023-12-21 10:35:59 #470 INFO] min_iml=[1.e-10]\n",
      "[2023-12-21 10:35:59 #470 INFO] Reordering the ruptures and storing the events\n",
      "[2023-12-21 10:35:59 #470 INFO] Reading 1 ruptures\n",
      "[2023-12-21 10:35:59 #470 INFO] Affected sites = 8131.0 per rupture\n",
      "[2023-12-21 10:35:59 #470 INFO] totw = 3\n",
      "[2023-12-21 10:36:03 #470 INFO] gen_event_based 100% [1 submitted, 0 queued]\n",
      "[2023-12-21 10:36:03 #470 INFO] Received 1 * 255.01 KB {'gmfdata': '254.37 KB', 'sig_eps': '337 B', 'times': '313 B'} in 3 seconds from gen_event_based\n",
      "[2023-12-21 10:36:03 #470 INFO] Stored 190.65 KB of GMFs\n",
      "[2023-12-21 10:36:05 #470 INFO] Checking stored GMFs\n",
      "[2023-12-21 10:36:05 #470 WARNING] No PGAs over 5 g found\n",
      "[2023-12-21 10:36:05 #470 INFO] Exposing the outputs to the database\n",
      "[2023-12-21 10:36:05 #470 INFO] Stored 1.2 MB on /Users/nicolepaul/oqdata/calc_470.hdf5 in 5 seconds\n"
     ]
    },
    {
     "name": "stdout",
     "output_type": "stream",
     "text": [
      "  id | name\n",
      "1086 | Events\n",
      "1087 | Full Report\n",
      "1088 | Ground Motion Fields\n",
      "1089 | Realizations\n"
     ]
    },
    {
     "name": "stderr",
     "output_type": "stream",
     "text": [
      "[2023-12-21 10:36:08 #471 INFO] nicolepaul@Nicoles-MacBook-Pro.local running /Users/nicolepaul/Code/earthquake-scenarios/Algeria/20030521_M6.8_Boumerdes/OpenQuake_gmfs/job_stations_none.ini [--hc=None]\n",
      "[2023-12-21 10:36:08 #471 INFO] Using engine version 3.19.0-gitea3782ec67\n",
      "[2023-12-21 10:36:09 #471 WARNING] Using 16 processpool workers\n",
      "[2023-12-21 10:36:09 #471 INFO] Running EventBasedCalculator with concurrent_tasks = 32\n",
      "[2023-12-21 10:36:09 #471 INFO] Checksum of the inputs: 1763465452 (total size 426.26 KB)\n",
      "[2023-12-21 10:36:09 #471 INFO] Extracting the hazard sites from the site model\n",
      "[2023-12-21 10:36:09 #471 INFO] Read N=8131 hazard sites and L=1 hazard levels\n",
      "[2023-12-21 10:36:09 #471 INFO] min_iml=[1.e-10]\n",
      "[2023-12-21 10:36:09 #471 INFO] Reordering the ruptures and storing the events\n",
      "[2023-12-21 10:36:09 #471 INFO] Reading 1 ruptures\n",
      "[2023-12-21 10:36:09 #471 INFO] Affected sites = 8131.0 per rupture\n",
      "[2023-12-21 10:36:09 #471 INFO] totw = 3\n",
      "[2023-12-21 10:36:13 #471 INFO] gen_event_based 100% [1 submitted, 0 queued]\n",
      "[2023-12-21 10:36:13 #471 INFO] Received 1 * 509.15 KB {'gmfdata': '508.49 KB', 'sig_eps': '365 B', 'times': '313 B'} in 3 seconds from gen_event_based\n",
      "[2023-12-21 10:36:13 #471 INFO] Stored 381.29 KB of GMFs\n",
      "[2023-12-21 10:36:15 #471 INFO] Checking stored GMFs\n",
      "[2023-12-21 10:36:15 #471 WARNING] No PGAs over 5 g found\n",
      "[2023-12-21 10:36:15 #471 INFO] Exposing the outputs to the database\n",
      "[2023-12-21 10:36:15 #471 INFO] Stored 1.39 MB on /Users/nicolepaul/oqdata/calc_471.hdf5 in 5 seconds\n"
     ]
    },
    {
     "name": "stdout",
     "output_type": "stream",
     "text": [
      "  id | name\n",
      "1090 | Events\n",
      "1091 | Full Report\n",
      "1092 | Ground Motion Fields\n",
      "1093 | Realizations\n"
     ]
    },
    {
     "name": "stderr",
     "output_type": "stream",
     "text": [
      "[2023-12-21 10:36:18 #472 INFO] nicolepaul@Nicoles-MacBook-Pro.local running /Users/nicolepaul/Code/earthquake-scenarios/Algeria/20030521_M6.8_Boumerdes/OpenQuake_gmfs/job_stations_none.ini [--hc=None]\n",
      "[2023-12-21 10:36:19 #472 INFO] Using engine version 3.19.0-gitea3782ec67\n",
      "[2023-12-21 10:36:19 #472 WARNING] Using 16 processpool workers\n",
      "[2023-12-21 10:36:19 #472 INFO] Running EventBasedCalculator with concurrent_tasks = 32\n",
      "[2023-12-21 10:36:19 #472 INFO] Checksum of the inputs: 1712533847 (total size 426.1 KB)\n",
      "[2023-12-21 10:36:19 #472 INFO] Extracting the hazard sites from the site model\n",
      "[2023-12-21 10:36:19 #472 INFO] Read N=8131 hazard sites and L=1 hazard levels\n",
      "[2023-12-21 10:36:19 #472 INFO] min_iml=[1.e-10]\n",
      "[2023-12-21 10:36:19 #472 INFO] Reordering the ruptures and storing the events\n",
      "[2023-12-21 10:36:19 #472 INFO] Reading 1 ruptures\n",
      "[2023-12-21 10:36:19 #472 INFO] Affected sites = 8131.0 per rupture\n",
      "[2023-12-21 10:36:19 #472 INFO] totw = 3\n",
      "[2023-12-21 10:36:23 #472 INFO] gen_event_based 100% [1 submitted, 0 queued]\n",
      "[2023-12-21 10:36:23 #472 INFO] Received 1 * 509.15 KB {'gmfdata': '508.49 KB', 'sig_eps': '365 B', 'times': '313 B'} in 3 seconds from gen_event_based\n",
      "[2023-12-21 10:36:23 #472 INFO] Stored 381.29 KB of GMFs\n",
      "[2023-12-21 10:36:25 #472 INFO] Checking stored GMFs\n",
      "[2023-12-21 10:36:25 #472 WARNING] No PGAs over 5 g found\n",
      "[2023-12-21 10:36:25 #472 INFO] Exposing the outputs to the database\n",
      "[2023-12-21 10:36:25 #472 INFO] Stored 1.39 MB on /Users/nicolepaul/oqdata/calc_472.hdf5 in 5 seconds\n"
     ]
    },
    {
     "name": "stdout",
     "output_type": "stream",
     "text": [
      "  id | name\n",
      "1094 | Events\n",
      "1095 | Full Report\n",
      "1096 | Ground Motion Fields\n",
      "1097 | Realizations\n"
     ]
    },
    {
     "name": "stderr",
     "output_type": "stream",
     "text": [
      "[2023-12-21 10:36:29 #473 INFO] nicolepaul@Nicoles-MacBook-Pro.local running /Users/nicolepaul/Code/earthquake-scenarios/Algeria/20030521_M6.8_Boumerdes/OpenQuake_gmfs/job_stations_none.ini [--hc=None]\n",
      "[2023-12-21 10:36:29 #473 INFO] Using engine version 3.19.0-gitea3782ec67\n",
      "[2023-12-21 10:36:29 #473 WARNING] Using 16 processpool workers\n",
      "[2023-12-21 10:36:29 #473 INFO] Running EventBasedCalculator with concurrent_tasks = 32\n",
      "[2023-12-21 10:36:29 #473 INFO] Checksum of the inputs: 4058460602 (total size 426.1 KB)\n",
      "[2023-12-21 10:36:29 #473 INFO] Extracting the hazard sites from the site model\n",
      "[2023-12-21 10:36:30 #473 INFO] Read N=8131 hazard sites and L=1 hazard levels\n",
      "[2023-12-21 10:36:30 #473 INFO] min_iml=[1.e-10]\n",
      "[2023-12-21 10:36:30 #473 INFO] Reordering the ruptures and storing the events\n",
      "[2023-12-21 10:36:30 #473 INFO] Reading 1 ruptures\n",
      "[2023-12-21 10:36:30 #473 INFO] Affected sites = 8131.0 per rupture\n",
      "[2023-12-21 10:36:30 #473 INFO] totw = 3\n",
      "[2023-12-21 10:36:34 #473 INFO] gen_event_based 100% [1 submitted, 0 queued]\n",
      "[2023-12-21 10:36:34 #473 INFO] Received 1 * 509.15 KB {'gmfdata': '508.49 KB', 'sig_eps': '365 B', 'times': '313 B'} in 3 seconds from gen_event_based\n",
      "[2023-12-21 10:36:34 #473 INFO] Stored 381.29 KB of GMFs\n",
      "[2023-12-21 10:36:35 #473 INFO] Checking stored GMFs\n",
      "[2023-12-21 10:36:35 #473 WARNING] No PGAs over 5 g found\n",
      "[2023-12-21 10:36:35 #473 INFO] Exposing the outputs to the database\n",
      "[2023-12-21 10:36:35 #473 INFO] Stored 1.39 MB on /Users/nicolepaul/oqdata/calc_473.hdf5 in 5 seconds\n"
     ]
    },
    {
     "name": "stdout",
     "output_type": "stream",
     "text": [
      "  id | name\n",
      "1098 | Events\n",
      "1099 | Full Report\n",
      "1100 | Ground Motion Fields\n",
      "1101 | Realizations\n",
      "File saved to ../Algeria/20030521_M6.8_Boumerdes/OpenQuake_gmfs/Sensitivity/gmf_median_PGA_468.csv\n",
      "File saved to ../Algeria/20030521_M6.8_Boumerdes/OpenQuake_gmfs/Sensitivity/gmf_median_PGA_469.csv\n",
      "File saved to ../Algeria/20030521_M6.8_Boumerdes/OpenQuake_gmfs/Sensitivity/gmf_median_PGA_470.csv\n",
      "File saved to ../Algeria/20030521_M6.8_Boumerdes/OpenQuake_gmfs/Sensitivity/gmf_median_PGA_471.csv\n",
      "File saved to ../Algeria/20030521_M6.8_Boumerdes/OpenQuake_gmfs/Sensitivity/gmf_median_PGA_472.csv\n",
      "File saved to ../Algeria/20030521_M6.8_Boumerdes/OpenQuake_gmfs/Sensitivity/gmf_median_PGA_473.csv\n"
     ]
    }
   ],
   "source": [
    "# Job.ini to be use in the sensitivity analysis\n",
    "job_ini = os.path.join(oq_folder, 'job_stations_none.ini')\n",
    "\n",
    "# Run OpenQuake calculations\n",
    "jobs = oq.main(job_ini, oq_rups, oq_gmlt, concurrent_jobs=1)\n",
    "\n",
    "# For each calculation, save gmfs in csv (only for PGA)\n",
    "for job in jobs:\n",
    "    calc_id = job.calc_id\n",
    "    df, txt = oq_get_gmfs(calc_id)\n",
    "    out_df = write_gmf_csv(df, 'PGA', comment=txt, \n",
    "                           out_path=oq_sens, suffix=calc_id)"
   ]
  },
  {
   "attachments": {},
   "cell_type": "markdown",
   "id": "e0ae4d8b",
   "metadata": {},
   "source": [
    "### Stations: Seismic"
   ]
  },
  {
   "cell_type": "code",
   "execution_count": 9,
   "id": "8f8d9363",
   "metadata": {},
   "outputs": [
    {
     "name": "stderr",
     "output_type": "stream",
     "text": [
      "[2023-12-21 10:36:39 #474 INFO] nicolepaul@Nicoles-MacBook-Pro.local running /Users/nicolepaul/Code/earthquake-scenarios/Algeria/20030521_M6.8_Boumerdes/OpenQuake_gmfs/job_stations_seismic.ini [--hc=None]\n",
      "[2023-12-21 10:36:40 #474 INFO] Using engine version 3.19.0-gitea3782ec67\n",
      "[2023-12-21 10:36:41 #474 WARNING] An error occurred while calling https://api.openquake.org/engine/latest to check if the installed version of the engine is up to date.\n",
      "[2023-12-21 10:36:41 #474 WARNING] Using 16 processpool workers\n",
      "[2023-12-21 10:36:41 #474 INFO] Running EventBasedCalculator with concurrent_tasks = 32\n",
      "[2023-12-21 10:36:41 #474 INFO] Checksum of the inputs: 1018325640 (total size 436.08 KB)\n",
      "[2023-12-21 10:36:41 #474 INFO] Extracting the hazard sites from the site model\n",
      "[2023-12-21 10:36:41 #474 INFO] Read N=8280 hazard sites and L=1 hazard levels\n",
      "[2023-12-21 10:36:41 #474 INFO] Reading station data from /Users/nicolepaul/Code/earthquake-scenarios/Algeria/20030521_M6.8_Boumerdes/OpenQuake_gmfs/stationlist_seismic.csv\n",
      "[2023-12-21 10:36:41 #474 INFO] min_iml=[1.e-10]\n",
      "[2023-12-21 10:36:41 #474 INFO] Reordering the ruptures and storing the events\n",
      "[2023-12-21 10:36:41 #474 INFO] Reading 1 ruptures\n",
      "[2023-12-21 10:36:41 #474 INFO] Affected sites = 8280.0 per rupture\n",
      "[2023-12-21 10:36:41 #474 INFO] totw = 3\n",
      "[2023-12-21 10:36:41 #474 INFO] GSIM: [AkkarEtAlRjb2014], IMT: PGA, Nominal bias mean: 0.436, Nominal bias stddev: 0.190\n",
      "[2023-12-21 10:37:27 #474 INFO] GSIM: [ChiouYoungs2014], IMT: PGA, Nominal bias mean: 0.353, Nominal bias stddev: 0.146\n",
      "[2023-12-21 10:38:14 #474 INFO] Sent 1 gen_event_based tasks, 504.71 KB in 0 seconds\n",
      "[2023-12-21 10:38:22 #474 INFO] gen_event_based 100% [1 submitted, 0 queued]\n",
      "[2023-12-21 10:38:22 #474 INFO] Received 1 * 259.31 KB {'gmfdata': '258.67 KB', 'sig_eps': '337 B', 'times': '313 B'} in 7 seconds from gen_event_based\n",
      "[2023-12-21 10:38:22 #474 INFO] Stored 193.87 KB of GMFs\n",
      "[2023-12-21 10:38:23 #474 INFO] Checking stored GMFs\n",
      "[2023-12-21 10:38:23 #474 WARNING] No PGAs over 5 g found\n",
      "[2023-12-21 10:38:23 #474 INFO] Exposing the outputs to the database\n",
      "[2023-12-21 10:38:23 #474 INFO] Stored 3.06 GB on /Users/nicolepaul/oqdata/calc_474.hdf5 in 102 seconds\n"
     ]
    },
    {
     "name": "stdout",
     "output_type": "stream",
     "text": [
      "  id | name\n",
      "1102 | Events\n",
      "1103 | Full Report\n",
      "1104 | Ground Motion Fields\n",
      "1105 | Realizations\n"
     ]
    },
    {
     "name": "stderr",
     "output_type": "stream",
     "text": [
      "[2023-12-21 10:38:29 #475 INFO] nicolepaul@Nicoles-MacBook-Pro.local running /Users/nicolepaul/Code/earthquake-scenarios/Algeria/20030521_M6.8_Boumerdes/OpenQuake_gmfs/job_stations_seismic.ini [--hc=None]\n",
      "[2023-12-21 10:38:29 #475 INFO] Using engine version 3.19.0-gitea3782ec67\n",
      "[2023-12-21 10:38:30 #475 WARNING] Using 16 processpool workers\n",
      "[2023-12-21 10:38:30 #475 INFO] Running EventBasedCalculator with concurrent_tasks = 32\n",
      "[2023-12-21 10:38:30 #475 INFO] Checksum of the inputs: 1135362803 (total size 435.92 KB)\n",
      "[2023-12-21 10:38:30 #475 INFO] Extracting the hazard sites from the site model\n",
      "[2023-12-21 10:38:30 #475 INFO] Read N=8280 hazard sites and L=1 hazard levels\n",
      "[2023-12-21 10:38:30 #475 INFO] Reading station data from /Users/nicolepaul/Code/earthquake-scenarios/Algeria/20030521_M6.8_Boumerdes/OpenQuake_gmfs/stationlist_seismic.csv\n",
      "[2023-12-21 10:38:30 #475 INFO] min_iml=[1.e-10]\n",
      "[2023-12-21 10:38:30 #475 INFO] Reordering the ruptures and storing the events\n",
      "[2023-12-21 10:38:30 #475 INFO] Reading 1 ruptures\n",
      "[2023-12-21 10:38:30 #475 INFO] Affected sites = 8280.0 per rupture\n",
      "[2023-12-21 10:38:30 #475 INFO] totw = 3\n",
      "[2023-12-21 10:38:30 #475 INFO] GSIM: [AkkarEtAlRjb2014], IMT: PGA, Nominal bias mean: 0.478, Nominal bias stddev: 0.190\n",
      "[2023-12-21 10:39:15 #475 INFO] GSIM: [ChiouYoungs2014], IMT: PGA, Nominal bias mean: 0.319, Nominal bias stddev: 0.146\n",
      "[2023-12-21 10:40:03 #475 INFO] Sent 1 gen_event_based tasks, 504.74 KB in 0 seconds\n",
      "[2023-12-21 10:40:11 #475 INFO] gen_event_based 100% [1 submitted, 0 queued]\n",
      "[2023-12-21 10:40:11 #475 INFO] Received 1 * 259.31 KB {'gmfdata': '258.67 KB', 'sig_eps': '337 B', 'times': '313 B'} in 7 seconds from gen_event_based\n",
      "[2023-12-21 10:40:11 #475 INFO] Stored 193.87 KB of GMFs\n",
      "[2023-12-21 10:40:12 #475 INFO] Checking stored GMFs\n",
      "[2023-12-21 10:40:12 #475 WARNING] No PGAs over 5 g found\n",
      "[2023-12-21 10:40:12 #475 INFO] Exposing the outputs to the database\n",
      "[2023-12-21 10:40:12 #475 INFO] Stored 3.06 GB on /Users/nicolepaul/oqdata/calc_475.hdf5 in 102 seconds\n"
     ]
    },
    {
     "name": "stdout",
     "output_type": "stream",
     "text": [
      "  id | name\n",
      "1106 | Events\n",
      "1107 | Full Report\n",
      "1108 | Ground Motion Fields\n",
      "1109 | Realizations\n"
     ]
    },
    {
     "name": "stderr",
     "output_type": "stream",
     "text": [
      "[2023-12-21 10:40:18 #476 INFO] nicolepaul@Nicoles-MacBook-Pro.local running /Users/nicolepaul/Code/earthquake-scenarios/Algeria/20030521_M6.8_Boumerdes/OpenQuake_gmfs/job_stations_seismic.ini [--hc=None]\n",
      "[2023-12-21 10:40:18 #476 INFO] Using engine version 3.19.0-gitea3782ec67\n",
      "[2023-12-21 10:40:18 #476 WARNING] Using 16 processpool workers\n",
      "[2023-12-21 10:40:18 #476 INFO] Running EventBasedCalculator with concurrent_tasks = 32\n",
      "[2023-12-21 10:40:18 #476 INFO] Checksum of the inputs: 53953366 (total size 435.93 KB)\n",
      "[2023-12-21 10:40:18 #476 INFO] Extracting the hazard sites from the site model\n",
      "[2023-12-21 10:40:19 #476 INFO] Read N=8280 hazard sites and L=1 hazard levels\n",
      "[2023-12-21 10:40:19 #476 INFO] Reading station data from /Users/nicolepaul/Code/earthquake-scenarios/Algeria/20030521_M6.8_Boumerdes/OpenQuake_gmfs/stationlist_seismic.csv\n",
      "[2023-12-21 10:40:19 #476 INFO] min_iml=[1.e-10]\n",
      "[2023-12-21 10:40:19 #476 INFO] Reordering the ruptures and storing the events\n",
      "[2023-12-21 10:40:19 #476 INFO] Reading 1 ruptures\n",
      "[2023-12-21 10:40:19 #476 INFO] Affected sites = 8280.0 per rupture\n",
      "[2023-12-21 10:40:19 #476 INFO] totw = 3\n",
      "[2023-12-21 10:40:19 #476 INFO] GSIM: [AkkarEtAlRjb2014], IMT: PGA, Nominal bias mean: 0.119, Nominal bias stddev: 0.190\n",
      "[2023-12-21 10:41:04 #476 INFO] GSIM: [ChiouYoungs2014], IMT: PGA, Nominal bias mean: -0.155, Nominal bias stddev: 0.144\n",
      "[2023-12-21 10:41:52 #476 INFO] Sent 1 gen_event_based tasks, 504.73 KB in 0 seconds\n",
      "[2023-12-21 10:42:00 #476 INFO] gen_event_based 100% [1 submitted, 0 queued]\n",
      "[2023-12-21 10:42:00 #476 INFO] Received 1 * 259.31 KB {'gmfdata': '258.67 KB', 'sig_eps': '337 B', 'times': '313 B'} in 7 seconds from gen_event_based\n",
      "[2023-12-21 10:42:00 #476 INFO] Stored 193.87 KB of GMFs\n",
      "[2023-12-21 10:42:01 #476 INFO] Checking stored GMFs\n",
      "[2023-12-21 10:42:01 #476 WARNING] No PGAs over 5 g found\n",
      "[2023-12-21 10:42:01 #476 INFO] Exposing the outputs to the database\n",
      "[2023-12-21 10:42:01 #476 INFO] Stored 3.06 GB on /Users/nicolepaul/oqdata/calc_476.hdf5 in 102 seconds\n"
     ]
    },
    {
     "name": "stdout",
     "output_type": "stream",
     "text": [
      "  id | name\n",
      "1110 | Events\n",
      "1111 | Full Report\n",
      "1112 | Ground Motion Fields\n",
      "1113 | Realizations\n"
     ]
    },
    {
     "name": "stderr",
     "output_type": "stream",
     "text": [
      "[2023-12-21 10:42:06 #477 INFO] nicolepaul@Nicoles-MacBook-Pro.local running /Users/nicolepaul/Code/earthquake-scenarios/Algeria/20030521_M6.8_Boumerdes/OpenQuake_gmfs/job_stations_seismic.ini [--hc=None]\n",
      "[2023-12-21 10:42:06 #477 INFO] Using engine version 3.19.0-gitea3782ec67\n",
      "[2023-12-21 10:42:07 #477 WARNING] Using 16 processpool workers\n",
      "[2023-12-21 10:42:07 #477 INFO] Running EventBasedCalculator with concurrent_tasks = 32\n",
      "[2023-12-21 10:42:07 #477 INFO] Checksum of the inputs: 2585978851 (total size 436.52 KB)\n",
      "[2023-12-21 10:42:07 #477 INFO] Extracting the hazard sites from the site model\n",
      "[2023-12-21 10:42:07 #477 INFO] Read N=8280 hazard sites and L=1 hazard levels\n",
      "[2023-12-21 10:42:07 #477 INFO] Reading station data from /Users/nicolepaul/Code/earthquake-scenarios/Algeria/20030521_M6.8_Boumerdes/OpenQuake_gmfs/stationlist_seismic.csv\n",
      "[2023-12-21 10:42:07 #477 INFO] min_iml=[1.e-10]\n",
      "[2023-12-21 10:42:07 #477 INFO] Reordering the ruptures and storing the events\n",
      "[2023-12-21 10:42:07 #477 INFO] Reading 1 ruptures\n",
      "[2023-12-21 10:42:07 #477 INFO] Affected sites = 8280.0 per rupture\n",
      "[2023-12-21 10:42:07 #477 INFO] totw = 3\n",
      "[2023-12-21 10:42:08 #477 INFO] GSIM: [AbrahamsonEtAl2014], IMT: PGA, Nominal bias mean: 0.530, Nominal bias stddev: 0.165\n",
      "[2023-12-21 10:42:53 #477 INFO] GSIM: [BooreEtAl2014], IMT: PGA, Nominal bias mean: 0.434, Nominal bias stddev: 0.160\n",
      "[2023-12-21 10:43:40 #477 INFO] GSIM: [CampbellBozorgnia2014], IMT: PGA, Nominal bias mean: 0.446, Nominal bias stddev: 0.150\n",
      "[2023-12-21 10:44:27 #477 INFO] GSIM: [ChiouYoungs2014], IMT: PGA, Nominal bias mean: 0.353, Nominal bias stddev: 0.146\n",
      "[2023-12-21 10:45:18 #477 INFO] Sent 1 gen_event_based tasks, 505.23 KB in 0 seconds\n",
      "[2023-12-21 10:45:27 #477 INFO] gen_event_based 100% [1 submitted, 0 queued]\n",
      "[2023-12-21 10:45:27 #477 INFO] Received 1 * 517.71 KB {'gmfdata': '517.05 KB', 'sig_eps': '365 B', 'times': '313 B'} in 9 seconds from gen_event_based\n",
      "[2023-12-21 10:45:27 #477 INFO] Stored 387.71 KB of GMFs\n",
      "[2023-12-21 10:45:28 #477 INFO] Checking stored GMFs\n",
      "[2023-12-21 10:45:28 #477 WARNING] No PGAs over 5 g found\n",
      "[2023-12-21 10:45:28 #477 INFO] Exposing the outputs to the database\n",
      "[2023-12-21 10:45:28 #477 INFO] Stored 6.11 GB on /Users/nicolepaul/oqdata/calc_477.hdf5 in 200 seconds\n"
     ]
    },
    {
     "name": "stdout",
     "output_type": "stream",
     "text": [
      "  id | name\n",
      "1114 | Events\n",
      "1115 | Full Report\n",
      "1116 | Ground Motion Fields\n",
      "1117 | Realizations\n"
     ]
    },
    {
     "name": "stderr",
     "output_type": "stream",
     "text": [
      "[2023-12-21 10:45:34 #478 INFO] nicolepaul@Nicoles-MacBook-Pro.local running /Users/nicolepaul/Code/earthquake-scenarios/Algeria/20030521_M6.8_Boumerdes/OpenQuake_gmfs/job_stations_seismic.ini [--hc=None]\n",
      "[2023-12-21 10:45:34 #478 INFO] Using engine version 3.19.0-gitea3782ec67\n",
      "[2023-12-21 10:45:35 #478 WARNING] Using 16 processpool workers\n",
      "[2023-12-21 10:45:35 #478 INFO] Running EventBasedCalculator with concurrent_tasks = 32\n",
      "[2023-12-21 10:45:35 #478 INFO] Checksum of the inputs: 2809905230 (total size 436.36 KB)\n",
      "[2023-12-21 10:45:35 #478 INFO] Extracting the hazard sites from the site model\n",
      "[2023-12-21 10:45:35 #478 INFO] Read N=8280 hazard sites and L=1 hazard levels\n",
      "[2023-12-21 10:45:35 #478 INFO] Reading station data from /Users/nicolepaul/Code/earthquake-scenarios/Algeria/20030521_M6.8_Boumerdes/OpenQuake_gmfs/stationlist_seismic.csv\n",
      "[2023-12-21 10:45:35 #478 INFO] min_iml=[1.e-10]\n",
      "[2023-12-21 10:45:35 #478 INFO] Reordering the ruptures and storing the events\n",
      "[2023-12-21 10:45:35 #478 INFO] Reading 1 ruptures\n",
      "[2023-12-21 10:45:35 #478 INFO] Affected sites = 8280.0 per rupture\n",
      "[2023-12-21 10:45:35 #478 INFO] totw = 3\n",
      "[2023-12-21 10:45:35 #478 INFO] GSIM: [AbrahamsonEtAl2014], IMT: PGA, Nominal bias mean: 0.447, Nominal bias stddev: 0.165\n",
      "[2023-12-21 10:46:22 #478 INFO] GSIM: [BooreEtAl2014], IMT: PGA, Nominal bias mean: 0.481, Nominal bias stddev: 0.160\n",
      "[2023-12-21 10:47:10 #478 INFO] GSIM: [CampbellBozorgnia2014], IMT: PGA, Nominal bias mean: 0.482, Nominal bias stddev: 0.150\n",
      "[2023-12-21 10:47:59 #478 INFO] GSIM: [ChiouYoungs2014], IMT: PGA, Nominal bias mean: 0.319, Nominal bias stddev: 0.146\n",
      "[2023-12-21 10:48:51 #478 INFO] Sent 1 gen_event_based tasks, 505.25 KB in 0 seconds\n",
      "[2023-12-21 10:49:00 #478 INFO] gen_event_based 100% [1 submitted, 0 queued]\n",
      "[2023-12-21 10:49:00 #478 INFO] Received 1 * 517.71 KB {'gmfdata': '517.05 KB', 'sig_eps': '365 B', 'times': '313 B'} in 9 seconds from gen_event_based\n",
      "[2023-12-21 10:49:00 #478 INFO] Stored 387.71 KB of GMFs\n",
      "[2023-12-21 10:49:01 #478 INFO] Checking stored GMFs\n",
      "[2023-12-21 10:49:01 #478 WARNING] No PGAs over 5 g found\n",
      "[2023-12-21 10:49:01 #478 INFO] Exposing the outputs to the database\n",
      "[2023-12-21 10:49:01 #478 INFO] Stored 6.11 GB on /Users/nicolepaul/oqdata/calc_478.hdf5 in 206 seconds\n"
     ]
    },
    {
     "name": "stdout",
     "output_type": "stream",
     "text": [
      "  id | name\n",
      "1118 | Events\n",
      "1119 | Full Report\n",
      "1120 | Ground Motion Fields\n",
      "1121 | Realizations\n"
     ]
    },
    {
     "name": "stderr",
     "output_type": "stream",
     "text": [
      "[2023-12-21 10:49:07 #479 INFO] nicolepaul@Nicoles-MacBook-Pro.local running /Users/nicolepaul/Code/earthquake-scenarios/Algeria/20030521_M6.8_Boumerdes/OpenQuake_gmfs/job_stations_seismic.ini [--hc=None]\n",
      "[2023-12-21 10:49:07 #479 INFO] Using engine version 3.19.0-gitea3782ec67\n",
      "[2023-12-21 10:49:08 #479 WARNING] Using 16 processpool workers\n",
      "[2023-12-21 10:49:08 #479 INFO] Running EventBasedCalculator with concurrent_tasks = 32\n",
      "[2023-12-21 10:49:08 #479 INFO] Checksum of the inputs: 328188081 (total size 436.36 KB)\n",
      "[2023-12-21 10:49:08 #479 INFO] Extracting the hazard sites from the site model\n",
      "[2023-12-21 10:49:08 #479 INFO] Read N=8280 hazard sites and L=1 hazard levels\n",
      "[2023-12-21 10:49:08 #479 INFO] Reading station data from /Users/nicolepaul/Code/earthquake-scenarios/Algeria/20030521_M6.8_Boumerdes/OpenQuake_gmfs/stationlist_seismic.csv\n",
      "[2023-12-21 10:49:08 #479 INFO] min_iml=[1.e-10]\n",
      "[2023-12-21 10:49:08 #479 INFO] Reordering the ruptures and storing the events\n",
      "[2023-12-21 10:49:08 #479 INFO] Reading 1 ruptures\n",
      "[2023-12-21 10:49:08 #479 INFO] Affected sites = 8280.0 per rupture\n",
      "[2023-12-21 10:49:08 #479 INFO] totw = 3\n",
      "[2023-12-21 10:49:08 #479 INFO] GSIM: [AbrahamsonEtAl2014], IMT: PGA, Nominal bias mean: -0.126, Nominal bias stddev: 0.160\n",
      "[2023-12-21 10:49:55 #479 INFO] GSIM: [BooreEtAl2014], IMT: PGA, Nominal bias mean: 0.075, Nominal bias stddev: 0.159\n",
      "[2023-12-21 10:50:39 #479 INFO] GSIM: [CampbellBozorgnia2014], IMT: PGA, Nominal bias mean: -0.017, Nominal bias stddev: 0.146\n",
      "[2023-12-21 10:51:24 #479 INFO] GSIM: [ChiouYoungs2014], IMT: PGA, Nominal bias mean: -0.155, Nominal bias stddev: 0.144\n",
      "[2023-12-21 10:52:14 #479 INFO] Sent 1 gen_event_based tasks, 505.25 KB in 0 seconds\n",
      "[2023-12-21 10:52:24 #479 INFO] gen_event_based 100% [1 submitted, 0 queued]\n",
      "[2023-12-21 10:52:24 #479 INFO] Received 1 * 517.71 KB {'gmfdata': '517.05 KB', 'sig_eps': '365 B', 'times': '313 B'} in 9 seconds from gen_event_based\n",
      "[2023-12-21 10:52:24 #479 INFO] Stored 387.71 KB of GMFs\n",
      "[2023-12-21 10:52:25 #479 INFO] Checking stored GMFs\n",
      "[2023-12-21 10:52:25 #479 WARNING] No PGAs over 5 g found\n",
      "[2023-12-21 10:52:25 #479 INFO] Exposing the outputs to the database\n",
      "[2023-12-21 10:52:25 #479 INFO] Stored 6.11 GB on /Users/nicolepaul/oqdata/calc_479.hdf5 in 197 seconds\n"
     ]
    },
    {
     "name": "stdout",
     "output_type": "stream",
     "text": [
      "  id | name\n",
      "1122 | Events\n",
      "1123 | Full Report\n",
      "1124 | Ground Motion Fields\n",
      "1125 | Realizations\n",
      "File saved to ../Algeria/20030521_M6.8_Boumerdes/OpenQuake_gmfs/Sensitivity/gmf_median_PGA_474.csv\n",
      "File saved to ../Algeria/20030521_M6.8_Boumerdes/OpenQuake_gmfs/Sensitivity/gmf_median_PGA_475.csv\n",
      "File saved to ../Algeria/20030521_M6.8_Boumerdes/OpenQuake_gmfs/Sensitivity/gmf_median_PGA_476.csv\n",
      "File saved to ../Algeria/20030521_M6.8_Boumerdes/OpenQuake_gmfs/Sensitivity/gmf_median_PGA_477.csv\n",
      "File saved to ../Algeria/20030521_M6.8_Boumerdes/OpenQuake_gmfs/Sensitivity/gmf_median_PGA_478.csv\n",
      "File saved to ../Algeria/20030521_M6.8_Boumerdes/OpenQuake_gmfs/Sensitivity/gmf_median_PGA_479.csv\n"
     ]
    }
   ],
   "source": [
    "# Job.ini to be use in the sensitivity analysis\n",
    "job_ini = os.path.join(oq_folder, 'job_stations_seismic.ini')\n",
    "\n",
    "# Run OpenQuake calculations\n",
    "jobs = oq.main(job_ini, oq_rups, oq_gmlt, concurrent_jobs=1)\n",
    "\n",
    "# For each calculation, save gmfs in csv (only for PGA)\n",
    "for job in jobs:\n",
    "    calc_id = job.calc_id\n",
    "    df, txt = oq_get_gmfs(calc_id)\n",
    "    out_df = write_gmf_csv(df, 'PGA', comment=txt, \n",
    "                           out_path=oq_sens, suffix=calc_id)"
   ]
  },
  {
   "attachments": {},
   "cell_type": "markdown",
   "id": "80ceb18f",
   "metadata": {},
   "source": [
    "### Stations: All (i.e., seismic and macroseismic stations)"
   ]
  },
  {
   "cell_type": "code",
   "execution_count": 10,
   "id": "8857a293",
   "metadata": {},
   "outputs": [],
   "source": [
    "# # Job.ini to be use in the sensitivity analysis\n",
    "# job_ini = os.path.join(oq_folder, 'job_stations_all.ini')\n",
    "\n",
    "# # Run OpenQuake calculations\n",
    "# jobs = oq.main(job_ini, oq_rups, oq_gmlt, concurrent_jobs=1)\n",
    "\n",
    "# # For each calculation, save gmfs in csv (only for PGA)\n",
    "# for job in jobs:\n",
    "#     calc_id = job.calc_id\n",
    "#     df, txt = oq_get_gmfs(calc_id)\n",
    "#     out_df = write_gmf_csv(df, 'PGA', comment=txt, \n",
    "#                            out_path=oq_sens, suffix=calc_id)"
   ]
  }
 ],
 "metadata": {
  "kernelspec": {
   "display_name": "Python 3.9.6 64-bit",
   "language": "python",
   "name": "python3"
  },
  "language_info": {
   "codemirror_mode": {
    "name": "ipython",
    "version": 3
   },
   "file_extension": ".py",
   "mimetype": "text/x-python",
   "name": "python",
   "nbconvert_exporter": "python",
   "pygments_lexer": "ipython3",
   "version": "3.11.6"
  },
  "vscode": {
   "interpreter": {
    "hash": "31f2aee4e71d21fbe5cf8b01ff0e069b9275f58929596ceb00d14d90e3e16cd6"
   }
  }
 },
 "nbformat": 4,
 "nbformat_minor": 5
}
