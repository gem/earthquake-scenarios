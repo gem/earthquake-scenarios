{
 "cells": [
  {
   "cell_type": "code",
   "execution_count": null,
   "metadata": {},
   "outputs": [],
   "source": [
    "# Standard dependencies\n",
    "import os, glob\n",
    "import json\n",
    "import pandas as pd\n",
    "import xml.etree.ElementTree as ET\n",
    "\n",
    "# OQ dependencies\n",
    "from openquake.hazardlib import gsim"
   ]
  },
  {
   "cell_type": "markdown",
   "metadata": {},
   "source": [
    "## User inputs"
   ]
  },
  {
   "cell_type": "code",
   "execution_count": null,
   "metadata": {},
   "outputs": [],
   "source": [
    "# Event name\n",
    "event = '20150425_M7.8_Gorkha'\n",
    "trt = \"Subduction Interface\"\n",
    "\n",
    "# Folders and paths\n",
    "json_path = glob.glob(os.path.join('..', '*', event, 'OpenQuake_gmfs',\n",
    "                                   'shakemap_info.json'))[0]\n",
    "country = json_path.split(os.sep)[1]\n",
    "folder_out = os.path.join(\"..\", country, event, \"OpenQuake_gmfs\")\n",
    "out_path = os.path.join(folder_out, \"gmpe_logic_tree_USGS.xml\")\n"
   ]
  },
  {
   "cell_type": "code",
   "execution_count": null,
   "metadata": {},
   "outputs": [],
   "source": [
    "with open(json_path) as f:\n",
    "    info = json.load(f)\n",
    "\n",
    "# Preview\n",
    "info"
   ]
  },
  {
   "cell_type": "markdown",
   "metadata": {},
   "source": [
    "## Read supplemental info from USGS"
   ]
  },
  {
   "cell_type": "code",
   "execution_count": null,
   "metadata": {},
   "outputs": [],
   "source": [
    "# Choose imt to calibrate based upon\n",
    "imt = 'PGA'\n",
    "\n",
    "# Extract values\n",
    "gmpes = info['multigmpe'][imt]['gmpes']\n",
    "\n",
    "# Determine tectonic region types\n",
    "trt_names = [trt['name'] for trt in gmpes]\n",
    "trt_weights = info['multigmpe'][imt]['weights']\n",
    "n_trt = len(trt_names)\n",
    "print(f\"Found {n_trt} tectonic region types: {trt_names}\")\n",
    "\n",
    "# Restructure dictionary\n",
    "gmmLT = dict.fromkeys(trt_names)\n",
    "for i in range(n_trt):\n",
    "    trt = trt_names[i]\n",
    "    gmmLT[trt] = {\n",
    "        'weight': trt_weights[i],\n",
    "        'gmpes': {name.replace('[','').replace(']',''): weight for name, weight in zip(gmpes[i]['gmpes'], gmpes[i]['weights'])}\n",
    "    }\n",
    "\n",
    "# Preview\n",
    "gmmLT"
   ]
  },
  {
   "cell_type": "code",
   "execution_count": null,
   "metadata": {},
   "outputs": [],
   "source": [
    "# Flatten gmmLT\n",
    "\n",
    "# Create dataframe for each trt\n",
    "dfs = [None for _ in range(n_trt)]\n",
    "for i in range(n_trt):\n",
    "    trt, wt = trt_names[i], trt_weights[i]\n",
    "    dfs[i] = pd.DataFrame({\n",
    "                            'gmpe': list(gmmLT[trt]['gmpes'].keys()),\n",
    "                            'gmpe_weight': list(gmmLT[trt]['gmpes'].values())\n",
    "                          })\n",
    "    dfs[i]['trt'] = trt\n",
    "    dfs[i]['trt_weight'] = wt\n",
    "    dfs[i]['branch_weight'] = dfs[i]['gmpe_weight'].mul(wt)\n",
    "    \n",
    "# Concatenate\n",
    "df = pd.concat(dfs, axis=0).reset_index().drop(columns='index')\n",
    "df['branch'] = [f\"b{i}\" for i in df.index]\n",
    "\n",
    "# Preview\n",
    "df"
   ]
  },
  {
   "cell_type": "code",
   "execution_count": null,
   "metadata": {},
   "outputs": [],
   "source": [
    "# Get all available OQ GMPEs\n",
    "oq_gmpes = [name for name in dir(gsim) if not name.startswith(\"_\")]\n",
    "\n",
    "# Required GMPEs to be mapped\n",
    "usgs_gmpes = df.gmpe.unique()\n",
    "\n",
    "# Print guidance to user\n",
    "print(f\"You need to map OQ GMPE names to the following USGS GMPE names:\",\n",
    "      usgs_gmpes, sep='\\n')\n",
    "# print(*oq_gmpes, sep='\\n')"
   ]
  },
  {
   "cell_type": "code",
   "execution_count": null,
   "metadata": {},
   "outputs": [],
   "source": [
    "# Write XML file line by line\n",
    "\n",
    "# Begin to write file\n",
    "nrml_file = open(out_path, 'w')\n",
    "\n",
    "# Header\n",
    "header_lines = [\n",
    "    \"<?xml version='1.0' encoding='utf-8'?>\\n\"\n",
    "    '<nrml xmlns:gml=\"http://www.opengis.net/gml\" xmlns=\"http://openquake.org/xmlns/nrml/0.4\">\\n'\n",
    "    \"<logicTree logicTreeID='lt1'>\\n\"\n",
    "    f'    <logicTreeBranchSet uncertaintyType=\"gmpeModel\" branchSetID=\"bs1\" applyToTectonicRegionType=\"{trt}\">'\n",
    "]\n",
    "for line in header_lines:\n",
    "    nrml_file.write(f\"{line}\\n\")\n",
    "    \n",
    "# Branches\n",
    "for i, row in df.iterrows():\n",
    "    branch, gmpe, weight = row.branch, row.gmpe, row.branch_weight\n",
    "    lines = [\n",
    "            f\"        <logicTreeBranch branchID='{branch}'>\",\n",
    "             \"            <uncertaintyModel>\",\n",
    "            f\"                {gmpe}\",\n",
    "             '            </uncertaintyModel>',\n",
    "            f\"            <uncertaintyWeight>{weight}</uncertaintyWeight>\",\n",
    "             '        </logicTreeBranch>'\n",
    "             \"\\n\"\n",
    "            ]\n",
    "    for line in lines:\n",
    "        nrml_file.write(f\"{line}\\n\")\n",
    "    \n",
    "# Footer\n",
    "footer_lines = [\n",
    "    '    </logicTreeBranchSet>\\n'\n",
    "    '</logicTree>\\n'\n",
    "    \"</nrml>\"\n",
    "]\n",
    "for line in footer_lines:\n",
    "    nrml_file.write(f\"{line}\\n\")\n",
    "nrml_file.close()\n",
    "\n",
    "# Print something\n",
    "print(f\"Wrote to: {out_path}\")"
   ]
  },
  {
   "cell_type": "code",
   "execution_count": null,
   "metadata": {},
   "outputs": [],
   "source": [
    "# Ensure that xml is valid\n",
    "error_msg = f\"Invalid XML file: {out_path}\"\n",
    "try:\n",
    "    ET.parse(out_path)\n",
    "except ET.ParseError as e:\n",
    "    error_msg = error_msg + f\"\\n{e}\"\n",
    "    print(error_msg)"
   ]
  },
  {
   "cell_type": "code",
   "execution_count": null,
   "metadata": {},
   "outputs": [],
   "source": []
  }
 ],
 "metadata": {
  "kernelspec": {
   "display_name": "Python 3 (ipykernel)",
   "language": "python",
   "name": "python3"
  },
  "language_info": {
   "codemirror_mode": {
    "name": "ipython",
    "version": 3
   },
   "file_extension": ".py",
   "mimetype": "text/x-python",
   "name": "python",
   "nbconvert_exporter": "python",
   "pygments_lexer": "ipython3",
   "version": "3.9.13"
  },
  "vscode": {
   "interpreter": {
    "hash": "31f2aee4e71d21fbe5cf8b01ff0e069b9275f58929596ceb00d14d90e3e16cd6"
   }
  }
 },
 "nbformat": 4,
 "nbformat_minor": 4
}
